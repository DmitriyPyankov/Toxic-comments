{
 "cells": [
  {
   "cell_type": "markdown",
   "metadata": {
    "toc": true
   },
   "source": [
    "<h1>Содержание<span class=\"tocSkip\"></span></h1>\n",
    "<div class=\"toc\"><ul class=\"toc-item\"><li><span><a href=\"#Подготовка\" data-toc-modified-id=\"Подготовка-1\"><span class=\"toc-item-num\">1&nbsp;&nbsp;</span>Подготовка</a></span><ul class=\"toc-item\"><li><span><a href=\"#Импортируем-нужные-библиотеки-и-настройки\" data-toc-modified-id=\"Импортируем-нужные-библиотеки-и-настройки-1.1\"><span class=\"toc-item-num\">1.1&nbsp;&nbsp;</span>Импортируем нужные библиотеки и настройки</a></span></li><li><span><a href=\"#Считаем-данные\" data-toc-modified-id=\"Считаем-данные-1.2\"><span class=\"toc-item-num\">1.2&nbsp;&nbsp;</span>Считаем данные</a></span></li><li><span><a href=\"#Изучим-данные\" data-toc-modified-id=\"Изучим-данные-1.3\"><span class=\"toc-item-num\">1.3&nbsp;&nbsp;</span>Изучим данные</a></span></li><li><span><a href=\"#Подготовим-данные\" data-toc-modified-id=\"Подготовим-данные-1.4\"><span class=\"toc-item-num\">1.4&nbsp;&nbsp;</span>Подготовим данные</a></span><ul class=\"toc-item\"><li><span><a href=\"#Данные-для-классификации-без-использования-модели-BERT\" data-toc-modified-id=\"Данные-для-классификации-без-использования-модели-BERT-1.4.1\"><span class=\"toc-item-num\">1.4.1&nbsp;&nbsp;</span>Данные для классификации без использования модели BERT</a></span></li><li><span><a href=\"#Данные-для-классификации-c-BERT\" data-toc-modified-id=\"Данные-для-классификации-c-BERT-1.4.2\"><span class=\"toc-item-num\">1.4.2&nbsp;&nbsp;</span>Данные для классификации c BERT</a></span></li></ul></li><li><span><a href=\"#Вывод\" data-toc-modified-id=\"Вывод-1.5\"><span class=\"toc-item-num\">1.5&nbsp;&nbsp;</span>Вывод</a></span></li></ul></li><li><span><a href=\"#Обучение\" data-toc-modified-id=\"Обучение-2\"><span class=\"toc-item-num\">2&nbsp;&nbsp;</span>Обучение</a></span><ul class=\"toc-item\"><li><span><a href=\"#Зададим-перебираемые-гиперпараметры-для-рандомсерча\" data-toc-modified-id=\"Зададим-перебираемые-гиперпараметры-для-рандомсерча-2.1\"><span class=\"toc-item-num\">2.1&nbsp;&nbsp;</span>Зададим перебираемые гиперпараметры для рандомсерча</a></span></li><li><span><a href=\"#Напишем-функцию-рандомсерча-для-подсчета-F1-каждой-модели\" data-toc-modified-id=\"Напишем-функцию-рандомсерча-для-подсчета-F1-каждой-модели-2.2\"><span class=\"toc-item-num\">2.2&nbsp;&nbsp;</span>Напишем функцию рандомсерча для подсчета F1 каждой модели</a></span></li><li><span><a href=\"#Обучение-моделей-без-BERT\" data-toc-modified-id=\"Обучение-моделей-без-BERT-2.3\"><span class=\"toc-item-num\">2.3&nbsp;&nbsp;</span>Обучение моделей без BERT</a></span><ul class=\"toc-item\"><li><span><a href=\"#Найдём-F1-с-помощью-линейной-регрессии\" data-toc-modified-id=\"Найдём-F1-с-помощью-линейной-регрессии-2.3.1\"><span class=\"toc-item-num\">2.3.1&nbsp;&nbsp;</span>Найдём F1 с помощью линейной регрессии</a></span></li><li><span><a href=\"#Найдём-F1-с-помощью-дерева-решений\" data-toc-modified-id=\"Найдём-F1-с-помощью-дерева-решений-2.3.2\"><span class=\"toc-item-num\">2.3.2&nbsp;&nbsp;</span>Найдём F1 с помощью дерева решений</a></span></li><li><span><a href=\"#Найдём-F1-с-помощью-XGBoost\" data-toc-modified-id=\"Найдём-F1-с-помощью-XGBoost-2.3.3\"><span class=\"toc-item-num\">2.3.3&nbsp;&nbsp;</span>Найдём F1 с помощью XGBoost</a></span></li></ul></li><li><span><a href=\"#Обучение-моделей-c-BERT\" data-toc-modified-id=\"Обучение-моделей-c-BERT-2.4\"><span class=\"toc-item-num\">2.4&nbsp;&nbsp;</span>Обучение моделей c BERT</a></span><ul class=\"toc-item\"><li><span><a href=\"#Найдём-F1-с-помощью-линейной-регрессии\" data-toc-modified-id=\"Найдём-F1-с-помощью-линейной-регрессии-2.4.1\"><span class=\"toc-item-num\">2.4.1&nbsp;&nbsp;</span>Найдём F1 с помощью линейной регрессии</a></span></li><li><span><a href=\"#Найдём-F1-с-помощью-дерева-решений\" data-toc-modified-id=\"Найдём-F1-с-помощью-дерева-решений-2.4.2\"><span class=\"toc-item-num\">2.4.2&nbsp;&nbsp;</span>Найдём F1 с помощью дерева решений</a></span></li><li><span><a href=\"#Найдём-F1-с-помощью-XGBoost\" data-toc-modified-id=\"Найдём-F1-с-помощью-XGBoost-2.4.3\"><span class=\"toc-item-num\">2.4.3&nbsp;&nbsp;</span>Найдём F1 с помощью XGBoost</a></span></li></ul></li><li><span><a href=\"#Создадим-таблицу-из-полученных-результатов\" data-toc-modified-id=\"Создадим-таблицу-из-полученных-результатов-2.5\"><span class=\"toc-item-num\">2.5&nbsp;&nbsp;</span>Создадим таблицу из полученных результатов</a></span></li><li><span><a href=\"#Посмотрим-результаты-на-тестовой-выборке\" data-toc-modified-id=\"Посмотрим-результаты-на-тестовой-выборке-2.6\"><span class=\"toc-item-num\">2.6&nbsp;&nbsp;</span>Посмотрим результаты на тестовой выборке</a></span></li><li><span><a href=\"#Проверим-модель-на-адекватность\" data-toc-modified-id=\"Проверим-модель-на-адекватность-2.7\"><span class=\"toc-item-num\">2.7&nbsp;&nbsp;</span>Проверим модель на адекватность</a></span></li></ul></li><li><span><a href=\"#Выводы\" data-toc-modified-id=\"Выводы-3\"><span class=\"toc-item-num\">3&nbsp;&nbsp;</span>Выводы</a></span></li><li><span><a href=\"#Чек-лист-проверки\" data-toc-modified-id=\"Чек-лист-проверки-4\"><span class=\"toc-item-num\">4&nbsp;&nbsp;</span>Чек-лист проверки</a></span></li></ul></div>"
   ]
  },
  {
   "cell_type": "markdown",
   "metadata": {},
   "source": [
    "# Проект для «Викишоп» BERT"
   ]
  },
  {
   "cell_type": "markdown",
   "metadata": {},
   "source": [
    "Интернет-магазин «Викишоп» запускает новый сервис. Теперь пользователи могут редактировать и дополнять описания товаров, как в вики-сообществах. То есть клиенты предлагают свои правки и комментируют изменения других. Магазину нужен инструмент, который будет искать токсичные комментарии и отправлять их на модерацию. \n",
    "\n",
    "Обучите модель классифицировать комментарии на позитивные и негативные. В вашем распоряжении набор данных с разметкой о токсичности правок.\n",
    "\n",
    "Постройте модель со значением метрики качества *F1* не меньше 0.75. \n",
    "\n",
    "**Инструкция по выполнению проекта**\n",
    "\n",
    "1. Загрузите и подготовьте данные.\n",
    "2. Обучите разные модели. \n",
    "3. Сделайте выводы.\n",
    "\n",
    "Для выполнения проекта применять *BERT* необязательно, но вы можете попробовать.\n",
    "\n",
    "**Описание данных**\n",
    "\n",
    "Данные находятся в файле `toxic_comments.csv`. Столбец *text* в нём содержит текст комментария, а *toxic* — целевой признак."
   ]
  },
  {
   "cell_type": "markdown",
   "metadata": {},
   "source": [
    "## Подготовка"
   ]
  },
  {
   "cell_type": "markdown",
   "metadata": {},
   "source": [
    "### Импортируем нужные библиотеки и настройки"
   ]
  },
  {
   "cell_type": "code",
   "execution_count": 1,
   "metadata": {},
   "outputs": [],
   "source": [
    "# !pip install transformers"
   ]
  },
  {
   "cell_type": "code",
   "execution_count": 2,
   "metadata": {
    "scrolled": true
   },
   "outputs": [],
   "source": [
    "# !pip install pytorch-pretrained-bert"
   ]
  },
  {
   "cell_type": "code",
   "execution_count": 3,
   "metadata": {},
   "outputs": [],
   "source": [
    "# !python -m spacy download en_core_web_sm"
   ]
  },
  {
   "cell_type": "code",
   "execution_count": 4,
   "metadata": {},
   "outputs": [],
   "source": [
    "# %pip install spacy"
   ]
  },
  {
   "cell_type": "code",
   "execution_count": 5,
   "metadata": {
    "scrolled": true
   },
   "outputs": [],
   "source": [
    "# !python -m pip install spacy"
   ]
  },
  {
   "cell_type": "code",
   "execution_count": 6,
   "metadata": {},
   "outputs": [],
   "source": [
    "# !pip install lightgbm "
   ]
  },
  {
   "cell_type": "code",
   "execution_count": 7,
   "metadata": {},
   "outputs": [],
   "source": [
    "# !pip install torch==1.8.1+cu101 torchvision==0.9.1+cu101 torchaudio==0.8.1 -f "
   ]
  },
  {
   "cell_type": "code",
   "execution_count": 8,
   "metadata": {},
   "outputs": [],
   "source": [
    "# !python -m torch.utils.collect_env"
   ]
  },
  {
   "cell_type": "code",
   "execution_count": 9,
   "metadata": {},
   "outputs": [],
   "source": [
    "# !pip install tensorflow"
   ]
  },
  {
   "cell_type": "code",
   "execution_count": 10,
   "metadata": {},
   "outputs": [],
   "source": [
    "# !pip install ipyparallel"
   ]
  },
  {
   "cell_type": "code",
   "execution_count": 11,
   "metadata": {},
   "outputs": [],
   "source": [
    "# !pip install -q transformers"
   ]
  },
  {
   "cell_type": "code",
   "execution_count": 12,
   "metadata": {
    "scrolled": true
   },
   "outputs": [
    {
     "name": "stderr",
     "output_type": "stream",
     "text": [
      "[nltk_data] Downloading package stopwords to\n",
      "[nltk_data]     C:\\Users\\Димасик\\AppData\\Roaming\\nltk_data...\n",
      "[nltk_data]   Package stopwords is already up-to-date!\n",
      "[nltk_data] Downloading package wordnet to\n",
      "[nltk_data]     C:\\Users\\Димасик\\AppData\\Roaming\\nltk_data...\n",
      "[nltk_data]   Package wordnet is already up-to-date!\n"
     ]
    }
   ],
   "source": [
    "import pandas as pd\n",
    "import numpy as np\n",
    "import matplotlib.pyplot as plt\n",
    "import re\n",
    "import torch\n",
    "import transformers\n",
    "\n",
    "from sklearn.model_selection import train_test_split\n",
    "from sklearn.utils import shuffle\n",
    "from sklearn.metrics import f1_score\n",
    "from sklearn.feature_extraction.text import TfidfVectorizer \n",
    "from sklearn.linear_model import LogisticRegression\n",
    "from sklearn.compose import ColumnTransformer\n",
    "from sklearn.tree import DecisionTreeClassifier\n",
    "from sklearn.model_selection import RandomizedSearchCV\n",
    "from lightgbm import LGBMRegressor, LGBMClassifier, Booster\n",
    "init_func = LGBMRegressor\n",
    "from sklearn.svm import SVC, LinearSVC\n",
    "from sklearn.compose import ColumnTransformer\n",
    "from sklearn.dummy import DummyClassifier\n",
    "from nltk.corpus import stopwords as nltk_stopwords\n",
    "from nltk.stem import WordNetLemmatizer\n",
    "m = WordNetLemmatizer()\n",
    "import transformers as ppb\n",
    "import time\n",
    "\n",
    "pd.set_option(\"display.max_columns\", None)\n",
    "pd.set_option(\"display.float_format\", \"{:,.2f}\".format)\n",
    "\n",
    "import nltk\n",
    "from nltk.corpus import stopwords\n",
    "nltk.download('stopwords')\n",
    "nltk.download('wordnet')\n",
    "from nltk.stem import WordNetLemmatizer \n",
    "\n",
    "\n",
    "import warnings\n",
    "warnings.filterwarnings('ignore')\n",
    "\n",
    "from tqdm import tqdm, notebook\n",
    "notebook.tqdm.pandas() \n",
    "\n",
    "import spacy\n",
    "from sklearn.base import TransformerMixin\n",
    "from sklearn.pipeline import Pipeline"
   ]
  },
  {
   "cell_type": "code",
   "execution_count": 13,
   "metadata": {},
   "outputs": [],
   "source": [
    "# !pip install torch==1.8.1+cu101 torchvision==0.9.1+cu101 torchaudio==0.8.1 -f https://download.pytorch.org/whl/torch_stable.html"
   ]
  },
  {
   "cell_type": "code",
   "execution_count": 14,
   "metadata": {},
   "outputs": [
    {
     "data": {
      "text/plain": [
       "True"
      ]
     },
     "execution_count": 14,
     "metadata": {},
     "output_type": "execute_result"
    }
   ],
   "source": [
    "torch.backends.cudnn.enabled"
   ]
  },
  {
   "cell_type": "code",
   "execution_count": 15,
   "metadata": {},
   "outputs": [
    {
     "data": {
      "text/plain": [
       "True"
      ]
     },
     "execution_count": 15,
     "metadata": {},
     "output_type": "execute_result"
    }
   ],
   "source": [
    "torch.cuda.is_available()"
   ]
  },
  {
   "cell_type": "code",
   "execution_count": 16,
   "metadata": {},
   "outputs": [],
   "source": [
    "state = 121"
   ]
  },
  {
   "cell_type": "markdown",
   "metadata": {},
   "source": [
    "### Считаем данные"
   ]
  },
  {
   "cell_type": "code",
   "execution_count": 17,
   "metadata": {},
   "outputs": [],
   "source": [
    "try:\n",
    "    df = pd.read_csv('/datasets/toxic_comments.csv')\n",
    "except FileNotFoundError:\n",
    "    df = pd.read_csv('https://code.s3.yandex.net/datasets/toxic_comments.csv')"
   ]
  },
  {
   "cell_type": "markdown",
   "metadata": {},
   "source": [
    "### Изучим данные"
   ]
  },
  {
   "cell_type": "code",
   "execution_count": 19,
   "metadata": {},
   "outputs": [
    {
     "data": {
      "text/html": [
       "<div>\n",
       "<style scoped>\n",
       "    .dataframe tbody tr th:only-of-type {\n",
       "        vertical-align: middle;\n",
       "    }\n",
       "\n",
       "    .dataframe tbody tr th {\n",
       "        vertical-align: top;\n",
       "    }\n",
       "\n",
       "    .dataframe thead th {\n",
       "        text-align: right;\n",
       "    }\n",
       "</style>\n",
       "<table border=\"1\" class=\"dataframe\">\n",
       "  <thead>\n",
       "    <tr style=\"text-align: right;\">\n",
       "      <th></th>\n",
       "      <th>Unnamed: 0</th>\n",
       "      <th>text</th>\n",
       "      <th>toxic</th>\n",
       "    </tr>\n",
       "  </thead>\n",
       "  <tbody>\n",
       "    <tr>\n",
       "      <th>0</th>\n",
       "      <td>0</td>\n",
       "      <td>Explanation\\nWhy the edits made under my usern...</td>\n",
       "      <td>0</td>\n",
       "    </tr>\n",
       "    <tr>\n",
       "      <th>1</th>\n",
       "      <td>1</td>\n",
       "      <td>D'aww! He matches this background colour I'm s...</td>\n",
       "      <td>0</td>\n",
       "    </tr>\n",
       "    <tr>\n",
       "      <th>2</th>\n",
       "      <td>2</td>\n",
       "      <td>Hey man, I'm really not trying to edit war. It...</td>\n",
       "      <td>0</td>\n",
       "    </tr>\n",
       "    <tr>\n",
       "      <th>3</th>\n",
       "      <td>3</td>\n",
       "      <td>\"\\nMore\\nI can't make any real suggestions on ...</td>\n",
       "      <td>0</td>\n",
       "    </tr>\n",
       "    <tr>\n",
       "      <th>4</th>\n",
       "      <td>4</td>\n",
       "      <td>You, sir, are my hero. Any chance you remember...</td>\n",
       "      <td>0</td>\n",
       "    </tr>\n",
       "  </tbody>\n",
       "</table>\n",
       "</div>"
      ],
      "text/plain": [
       "   Unnamed: 0                                               text  toxic\n",
       "0           0  Explanation\\nWhy the edits made under my usern...      0\n",
       "1           1  D'aww! He matches this background colour I'm s...      0\n",
       "2           2  Hey man, I'm really not trying to edit war. It...      0\n",
       "3           3  \"\\nMore\\nI can't make any real suggestions on ...      0\n",
       "4           4  You, sir, are my hero. Any chance you remember...      0"
      ]
     },
     "execution_count": 19,
     "metadata": {},
     "output_type": "execute_result"
    }
   ],
   "source": [
    "df.head()"
   ]
  },
  {
   "cell_type": "code",
   "execution_count": 20,
   "metadata": {},
   "outputs": [
    {
     "name": "stdout",
     "output_type": "stream",
     "text": [
      "<class 'pandas.core.frame.DataFrame'>\n",
      "RangeIndex: 159292 entries, 0 to 159291\n",
      "Data columns (total 3 columns):\n",
      " #   Column      Non-Null Count   Dtype \n",
      "---  ------      --------------   ----- \n",
      " 0   Unnamed: 0  159292 non-null  int64 \n",
      " 1   text        159292 non-null  object\n",
      " 2   toxic       159292 non-null  int64 \n",
      "dtypes: int64(2), object(1)\n",
      "memory usage: 3.6+ MB\n"
     ]
    }
   ],
   "source": [
    "df.info()"
   ]
  },
  {
   "cell_type": "markdown",
   "metadata": {},
   "source": [
    "Посмотрим на дисбаланс данных"
   ]
  },
  {
   "cell_type": "code",
   "execution_count": 21,
   "metadata": {},
   "outputs": [
    {
     "data": {
      "text/plain": [
       "0    143106\n",
       "1     16186\n",
       "Name: toxic, dtype: int64"
      ]
     },
     "metadata": {},
     "output_type": "display_data"
    },
    {
     "data": {
      "text/plain": [
       "0    89.84%\n",
       "1    10.16%\n",
       "Name: toxic, dtype: object"
      ]
     },
     "execution_count": 21,
     "metadata": {},
     "output_type": "execute_result"
    }
   ],
   "source": [
    "display(df['toxic'].value_counts())\n",
    "df['toxic'].value_counts(normalize=True).map('{:.2%}'.format)"
   ]
  },
  {
   "cell_type": "markdown",
   "metadata": {},
   "source": [
    "Проверим данные на пропуски"
   ]
  },
  {
   "cell_type": "code",
   "execution_count": 22,
   "metadata": {},
   "outputs": [
    {
     "data": {
      "text/plain": [
       "Unnamed: 0    0\n",
       "text          0\n",
       "toxic         0\n",
       "dtype: int64"
      ]
     },
     "execution_count": 22,
     "metadata": {},
     "output_type": "execute_result"
    }
   ],
   "source": [
    "df.isnull().sum()"
   ]
  },
  {
   "cell_type": "markdown",
   "metadata": {},
   "source": [
    "Проверим данные на дубликаты"
   ]
  },
  {
   "cell_type": "code",
   "execution_count": 23,
   "metadata": {},
   "outputs": [
    {
     "data": {
      "text/plain": [
       "0"
      ]
     },
     "execution_count": 23,
     "metadata": {},
     "output_type": "execute_result"
    }
   ],
   "source": [
    "df.duplicated().sum()"
   ]
  },
  {
   "cell_type": "markdown",
   "metadata": {},
   "source": [
    "Удалим лишний столбец"
   ]
  },
  {
   "cell_type": "code",
   "execution_count": 24,
   "metadata": {},
   "outputs": [],
   "source": [
    "df = df.drop(['Unnamed: 0'], axis=1)"
   ]
  },
  {
   "cell_type": "markdown",
   "metadata": {},
   "source": [
    "### Подготовим данные"
   ]
  },
  {
   "cell_type": "markdown",
   "metadata": {},
   "source": [
    "Для подготовки теста для обучения моделей-регрессоров будем использовать как модель BERT, так и варианты без её применения.\n",
    "\n",
    "Так как модель BERT использует уже готовые списки для работы с текстом, произведём подготовку для работы с текстом для варианта с использованием векторайзера TF-IDF.."
   ]
  },
  {
   "cell_type": "markdown",
   "metadata": {},
   "source": [
    "#### Данные для классификации без использования модели BERT"
   ]
  },
  {
   "cell_type": "markdown",
   "metadata": {},
   "source": [
    "В качестве токенизатора с готовыми списками будем использовать библиотеку spyCy, как более точную альтернативу библиотеки NLTK, изучению которой уделялось внимание в периоде обучения на курсе DS."
   ]
  },
  {
   "cell_type": "markdown",
   "metadata": {},
   "source": [
    "Загрузка основной модели английского языка из spaCy:"
   ]
  },
  {
   "cell_type": "code",
   "execution_count": 25,
   "metadata": {},
   "outputs": [],
   "source": [
    "nlp = spacy.load('en_core_web_sm', disable=['parser', 'ner'])"
   ]
  },
  {
   "cell_type": "markdown",
   "metadata": {},
   "source": [
    "*Зададим стоп-слова*"
   ]
  },
  {
   "cell_type": "code",
   "execution_count": 26,
   "metadata": {},
   "outputs": [],
   "source": [
    "stop_words = spacy.lang.en.stop_words.STOP_WORDS"
   ]
  },
  {
   "cell_type": "markdown",
   "metadata": {},
   "source": [
    "Токеннизация и лемматизация"
   ]
  },
  {
   "cell_type": "code",
   "execution_count": 27,
   "metadata": {},
   "outputs": [
    {
     "name": "stderr",
     "output_type": "stream",
     "text": [
      "100%|█████████████████████████████████████████████████████████████████████████| 159292/159292 [17:53<00:00, 148.37it/s]"
     ]
    },
    {
     "name": "stdout",
     "output_type": "stream",
     "text": [
      "Wall time: 17min 53s\n"
     ]
    },
    {
     "name": "stderr",
     "output_type": "stream",
     "text": [
      "\n"
     ]
    }
   ],
   "source": [
    "%%time\n",
    "tqdm.pandas()\n",
    "df['final_text'] = df['text'].progress_apply(lambda x: ' '.join([token.lemma_ for token in nlp(x)]))"
   ]
  },
  {
   "cell_type": "markdown",
   "metadata": {},
   "source": [
    "Очистка текста от лишних символов"
   ]
  },
  {
   "cell_type": "code",
   "execution_count": 28,
   "metadata": {
    "scrolled": true
   },
   "outputs": [
    {
     "name": "stdout",
     "output_type": "stream",
     "text": [
      "Wall time: 5.25 s\n"
     ]
    }
   ],
   "source": [
    "%%time\n",
    "tqdm.pandas()\n",
    "df['final_text'] = df['final_text'].apply(\n",
    "    lambda x: ' '.join(\n",
    "        re.sub(\n",
    "            r'[^a-zA-Z\\']',\n",
    "            ' ',\n",
    "            x\n",
    "        ).split()\n",
    "    )\n",
    ").str.lower()"
   ]
  },
  {
   "cell_type": "markdown",
   "metadata": {},
   "source": [
    "Разобьём датасет на обучающую и тестовую выборки"
   ]
  },
  {
   "cell_type": "code",
   "execution_count": 29,
   "metadata": {},
   "outputs": [],
   "source": [
    "features = df['final_text']\n",
    "target = df['toxic']"
   ]
  },
  {
   "cell_type": "markdown",
   "metadata": {},
   "source": [
    "Разобьём обучающий и тестовый датасет на тренировочные и тестовые"
   ]
  },
  {
   "cell_type": "code",
   "execution_count": 30,
   "metadata": {},
   "outputs": [],
   "source": [
    "X_train, X_test, y_train, y_test = train_test_split(\n",
    "                                    features, target, test_size=0.1, random_state=state, stratify=target)"
   ]
  },
  {
   "cell_type": "markdown",
   "metadata": {},
   "source": [
    "Проверим, что баланс не изменился"
   ]
  },
  {
   "cell_type": "code",
   "execution_count": 31,
   "metadata": {},
   "outputs": [
    {
     "data": {
      "text/plain": [
       "(0    89.84%\n",
       " 1    10.16%\n",
       " Name: toxic, dtype: object,\n",
       " 0    89.84%\n",
       " 1    10.16%\n",
       " Name: toxic, dtype: object)"
      ]
     },
     "execution_count": 31,
     "metadata": {},
     "output_type": "execute_result"
    }
   ],
   "source": [
    "y_train.value_counts(normalize=True).map('{:.2%}'.format), y_test.value_counts(normalize=True).map('{:.2%}'.format)"
   ]
  },
  {
   "cell_type": "markdown",
   "metadata": {},
   "source": [
    "Счётчик величин TF-IDF и выполним подсчет"
   ]
  },
  {
   "cell_type": "markdown",
   "metadata": {},
   "source": [
    "#### Данные для классификации c BERT"
   ]
  },
  {
   "cell_type": "markdown",
   "metadata": {},
   "source": [
    "Считываем заново данные"
   ]
  },
  {
   "cell_type": "code",
   "execution_count": 34,
   "metadata": {},
   "outputs": [],
   "source": [
    "try:\n",
    "    df_bert = pd.read_csv('/datasets/toxic_comments.csv')\n",
    "except FileNotFoundError:\n",
    "    df_bert = pd.read_csv('https://code.s3.yandex.net/datasets/toxic_comments.csv')\n",
    "df_bert = df_bert.drop(['Unnamed: 0'], axis=1)\n",
    "df_bert = df_bert.sample(5000, random_state=state).reset_index(drop=True)"
   ]
  },
  {
   "cell_type": "markdown",
   "metadata": {},
   "source": [
    "Выполним только очистку текста (лемматизация не требуется)"
   ]
  },
  {
   "cell_type": "code",
   "execution_count": 36,
   "metadata": {},
   "outputs": [],
   "source": [
    "def clear_text(text):\n",
    "    s = re.sub(r'[^a-zA-Z\\'.,:;!]', ' ', text).split()\n",
    "    return ' '.join(s)"
   ]
  },
  {
   "cell_type": "code",
   "execution_count": 37,
   "metadata": {
    "scrolled": true
   },
   "outputs": [],
   "source": [
    "df_bert['text'] = df_bert['text'].apply(clear_text)"
   ]
  },
  {
   "cell_type": "markdown",
   "metadata": {},
   "source": [
    "Выполним разбивку на токены"
   ]
  },
  {
   "cell_type": "code",
   "execution_count": 38,
   "metadata": {},
   "outputs": [],
   "source": [
    "tokenizer = transformers.BertTokenizer.from_pretrained('bert-base-uncased', model_max_length=512)\n",
    "\n",
    "tokenized = df_bert['text'].apply(\n",
    "    lambda x: tokenizer.encode(x, add_special_tokens=True, truncation=True, max_length=512))\n",
    "\n",
    "\n",
    "max_len = 0\n",
    "for i in tokenized.values:\n",
    "    if len(i) > max_len:\n",
    "        max_len = len(i)\n",
    "\n",
    "padded = np.array([i + [0]*(max_len - len(i)) for i in tokenized.values])\n",
    "\n",
    "attention_mask = np.where(padded != 0, 1, 0)"
   ]
  },
  {
   "cell_type": "code",
   "execution_count": 39,
   "metadata": {
    "scrolled": true
   },
   "outputs": [
    {
     "data": {
      "text/plain": [
       "0       Please feel free to comment on my part revisio...\n",
       "1       NO, i prefer, i will continue to attack Gerald...\n",
       "2       ps. While NLP can be applied to many fields, s...\n",
       "3       Sorry I just went for a little walk with the d...\n",
       "4       ::::::ONIH etc, without meaning to be uncivil;...\n",
       "                              ...                        \n",
       "4995                   Wow man, wow. I apologised. Chill.\n",
       "4996    Your Fired Match I read about Kelly Kelly faci...\n",
       "4997    Kid Buu is The Strongest Form of Buu Kid Buu i...\n",
       "4998    Interested I am interested for expanding of ar...\n",
       "4999    The pic of Nicole Richie says, Any fans who wa...\n",
       "Name: text, Length: 5000, dtype: object"
      ]
     },
     "metadata": {},
     "output_type": "display_data"
    }
   ],
   "source": [
    "display(df_bert['text'])"
   ]
  },
  {
   "cell_type": "markdown",
   "metadata": {},
   "source": [
    "Произведём вычисления эмбеддингов для модели BERT"
   ]
  },
  {
   "cell_type": "code",
   "execution_count": 40,
   "metadata": {},
   "outputs": [
    {
     "name": "stderr",
     "output_type": "stream",
     "text": [
      "Some weights of the model checkpoint at unitary/toxic-bert were not used when initializing BertModel: ['classifier.bias', 'classifier.weight']\n",
      "- This IS expected if you are initializing BertModel from the checkpoint of a model trained on another task or with another architecture (e.g. initializing a BertForSequenceClassification model from a BertForPreTraining model).\n",
      "- This IS NOT expected if you are initializing BertModel from the checkpoint of a model that you expect to be exactly identical (initializing a BertForSequenceClassification model from a BertForSequenceClassification model).\n"
     ]
    }
   ],
   "source": [
    "tokenizer = transformers.BertTokenizer.from_pretrained('unitary/toxic-bert', max_length=512)\n",
    "config = transformers.BertConfig.from_pretrained('unitary/toxic-bert')\n",
    "model = transformers.BertModel.from_pretrained('unitary/toxic-bert', config=config)"
   ]
  },
  {
   "cell_type": "code",
   "execution_count": 41,
   "metadata": {},
   "outputs": [],
   "source": [
    "device = torch.device('cuda' if torch.cuda.is_available() else 'cpu')\n",
    "\n",
    "model.to(device);"
   ]
  },
  {
   "cell_type": "code",
   "execution_count": 42,
   "metadata": {},
   "outputs": [
    {
     "data": {
      "text/plain": [
       "device(type='cuda')"
      ]
     },
     "execution_count": 42,
     "metadata": {},
     "output_type": "execute_result"
    }
   ],
   "source": [
    "device"
   ]
  },
  {
   "cell_type": "code",
   "execution_count": 43,
   "metadata": {
    "scrolled": true
   },
   "outputs": [
    {
     "data": {
      "application/vnd.jupyter.widget-view+json": {
       "model_id": "65c069bcbe484d0faedeb796ee86c5f1",
       "version_major": 2,
       "version_minor": 0
      },
      "text/plain": [
       "  0%|          | 0/50 [00:00<?, ?it/s]"
      ]
     },
     "metadata": {},
     "output_type": "display_data"
    }
   ],
   "source": [
    "batch_size = 100\n",
    "embeddings = []\n",
    "for i in notebook.tqdm(range(padded.shape[0] // batch_size)):\n",
    "        batch = torch.LongTensor(padded[batch_size*i:batch_size*(i+1)]) \n",
    "        attention_mask_batch = torch.LongTensor(attention_mask[batch_size*i:batch_size*(i+1)])\n",
    "        \n",
    "        with torch.no_grad():\n",
    "            batch_embeddings = model(batch.to(device), attention_mask=attention_mask_batch.to(device))\n",
    "        \n",
    "        embeddings.append(batch_embeddings[0][:,0,:].cpu().numpy())"
   ]
  },
  {
   "cell_type": "markdown",
   "metadata": {},
   "source": [
    "Создадим обучающий и целевой датасеты"
   ]
  },
  {
   "cell_type": "code",
   "execution_count": 44,
   "metadata": {},
   "outputs": [
    {
     "data": {
      "text/plain": [
       "((5000, 768), (5000,))"
      ]
     },
     "execution_count": 44,
     "metadata": {},
     "output_type": "execute_result"
    }
   ],
   "source": [
    "X_bert = np.concatenate(embeddings)\n",
    "y_bert = df_bert['toxic'][0:len(X_bert)]\n",
    "\n",
    "X_bert.shape, y_bert.shape"
   ]
  },
  {
   "cell_type": "markdown",
   "metadata": {},
   "source": [
    "Разобьём обучающий и тестовый датасет на тренировочные и тестовые"
   ]
  },
  {
   "cell_type": "code",
   "execution_count": 45,
   "metadata": {},
   "outputs": [
    {
     "data": {
      "text/plain": [
       "((4250, 768), (750, 768), (4250,), (750,))"
      ]
     },
     "execution_count": 45,
     "metadata": {},
     "output_type": "execute_result"
    }
   ],
   "source": [
    "X_train_bert, X_test_bert, y_train_bert, y_test_bert = train_test_split(\n",
    "                                    X_bert, y_bert, test_size=0.15, random_state=state)\n",
    "X_train_bert.shape, X_test_bert.shape, y_train_bert.shape, y_test_bert.shape"
   ]
  },
  {
   "cell_type": "markdown",
   "metadata": {},
   "source": [
    "### Вывод"
   ]
  },
  {
   "cell_type": "markdown",
   "metadata": {},
   "source": [
    "Загружен датасет, получена общая информация, проведена проверка на дубликаты и пропуски, произведена проверка соотношения классов. Произведена подготовка текста с помощью библиотеки spaCy для выполнения задачи классификации комментариев без использования модели BERT, подготовлены обучающая и тестовые выборки общего датасета. Произведена подготовка текста для работы модели BERT, произведена балансировка классов."
   ]
  },
  {
   "cell_type": "markdown",
   "metadata": {},
   "source": [
    "## Обучение"
   ]
  },
  {
   "cell_type": "markdown",
   "metadata": {},
   "source": [
    "*Будем обучать на логистической регрессии, дереве решений и XGBoost (случайный не взяли, потому что очень долго считает). Обучение будет проводиться для выборок подготовленных стандартным путем  и с помощью BERT*"
   ]
  },
  {
   "cell_type": "markdown",
   "metadata": {},
   "source": [
    "### Зададим перебираемые гиперпараметры для рандомсерча"
   ]
  },
  {
   "cell_type": "code",
   "execution_count": 46,
   "metadata": {},
   "outputs": [],
   "source": [
    "tree_params = {\n",
    "    'clf__max_depth': range(1,15)\n",
    "}\n",
    "\n",
    "XGBoost_params = {\n",
    "    'clf__max_depth' : range(10, 16 , 5), \n",
    "    'clf__learning_rate' : [0.2, 0.5]\n",
    "}\n",
    "params_lr = {\n",
    "    'clf__C' : range(5,15)\n",
    "}\n",
    "\n",
    "tree_params_bert = {\n",
    "    'max_depth': range(1,15)\n",
    "}\n",
    "\n",
    "XGBoost_params_bert = {\n",
    "    'max_depth' : range(10, 16 , 5), \n",
    "    'learning_rate' : [0.2, 0.5]\n",
    "}\n",
    "\n",
    "params_lr_bert = {\n",
    "    'C' : range(5,15)\n",
    "}"
   ]
  },
  {
   "cell_type": "markdown",
   "metadata": {},
   "source": [
    "### Напишем функцию рандомсерча для подсчета F1 каждой модели"
   ]
  },
  {
   "cell_type": "code",
   "execution_count": 47,
   "metadata": {},
   "outputs": [],
   "source": [
    "def Randomiz_search(model, params, X, y):\n",
    "    model = RandomizedSearchCV(\n",
    "        model,\n",
    "        param_distributions = params,\n",
    "        n_iter = 10,\n",
    "        verbose = 200,\n",
    "        scoring = 'f1',\n",
    "        cv = 5,\n",
    "        n_jobs = -1, \n",
    "    )\n",
    "    start = time.time()\n",
    "    model.fit(X, y)\n",
    "    end = time.time()\n",
    "    time_fit = end - start\n",
    "    \n",
    "    F1 = round((model.best_score_), 2) \n",
    "    \n",
    "    return F1, time_fit, model"
   ]
  },
  {
   "cell_type": "markdown",
   "metadata": {},
   "source": [
    "### Обучение моделей без BERT "
   ]
  },
  {
   "cell_type": "markdown",
   "metadata": {},
   "source": [
    "#### Найдём F1 с помощью линейной регрессии"
   ]
  },
  {
   "cell_type": "code",
   "execution_count": 49,
   "metadata": {},
   "outputs": [
    {
     "name": "stdout",
     "output_type": "stream",
     "text": [
      "Fitting 5 folds for each of 10 candidates, totalling 50 fits\n",
      "F1 для логистической регрессии равен: 0.77\n"
     ]
    }
   ],
   "source": [
    "lr = LogisticRegression(class_weight='balanced', random_state=state)\n",
    "pipe = Pipeline(\n",
    "    [\n",
    "        ('tf_idf', TfidfVectorizer(stop_words=stop_words)),\n",
    "        ('clf', lr)\n",
    "    ]\n",
    ")\n",
    "\n",
    "Lin = []\n",
    "\n",
    "F1, time_fit, rand_lr = Randomiz_search(\n",
    "                       pipe,\n",
    "                       params_lr,\n",
    "                       X_train, y_train\n",
    ")\n",
    "\n",
    "\n",
    "Lin.append(F1)\n",
    "Lin.append(time_fit)\n",
    "Lin.append(0)\n",
    "\n",
    "print('F1 для логистической регрессии равен:', F1)"
   ]
  },
  {
   "cell_type": "markdown",
   "metadata": {},
   "source": [
    "#### Найдём F1 с помощью дерева решений"
   ]
  },
  {
   "cell_type": "code",
   "execution_count": 51,
   "metadata": {},
   "outputs": [
    {
     "name": "stdout",
     "output_type": "stream",
     "text": [
      "Fitting 5 folds for each of 10 candidates, totalling 50 fits\n",
      "F1 для дерева решений равен: 0.6\n"
     ]
    }
   ],
   "source": [
    "tree_class = DecisionTreeClassifier(class_weight='balanced', random_state=state)\n",
    "pipe = Pipeline(\n",
    "    [\n",
    "        ('tf_idf', TfidfVectorizer(stop_words=stop_words)),\n",
    "        ('clf', tree_class)\n",
    "    ]\n",
    ")\n",
    "\n",
    "Tree = []\n",
    "\n",
    "F1, time_fit, tree_model = Randomiz_search(\n",
    "    pipe,\n",
    "    tree_params,\n",
    "    X_train, y_train\n",
    ")\n",
    "\n",
    "Tree.append(F1)\n",
    "Tree.append(time_fit)\n",
    "Tree.append(0)\n",
    "\n",
    "print('F1 для дерева решений равен:', F1)"
   ]
  },
  {
   "cell_type": "markdown",
   "metadata": {},
   "source": [
    "#### Найдём F1 с помощью XGBoost"
   ]
  },
  {
   "cell_type": "code",
   "execution_count": 52,
   "metadata": {},
   "outputs": [
    {
     "name": "stdout",
     "output_type": "stream",
     "text": [
      "Fitting 5 folds for each of 4 candidates, totalling 20 fits\n",
      "[LightGBM] [Warning] Unknown parameter: enable_categorical\n",
      "F1 для XGBoost равен: 0.73\n"
     ]
    }
   ],
   "source": [
    "LGBMClass = LGBMClassifier(class_weight='balanced', random_state=state, n_estimators=30, enable_categorical=True)\n",
    "pipe = Pipeline(\n",
    "    [\n",
    "        ('tf_idf', TfidfVectorizer(stop_words=stop_words)),\n",
    "        ('clf', LGBMClass)\n",
    "    ]\n",
    ")\n",
    "\n",
    "XGBoost = []\n",
    "\n",
    "F1, time_fit, XGBoost_model = Randomiz_search(\n",
    "    pipe,\n",
    "    XGBoost_params, \n",
    "    X_train, y_train\n",
    ")\n",
    "\n",
    "XGBoost.append(F1)\n",
    "XGBoost.append(time_fit)\n",
    "XGBoost.append(0)\n",
    "\n",
    "\n",
    "print('F1 для XGBoost равен:', F1)"
   ]
  },
  {
   "cell_type": "markdown",
   "metadata": {},
   "source": [
    "### Обучение моделей c BERT"
   ]
  },
  {
   "cell_type": "markdown",
   "metadata": {},
   "source": [
    "#### Найдём F1 с помощью линейной регрессии"
   ]
  },
  {
   "cell_type": "code",
   "execution_count": 54,
   "metadata": {},
   "outputs": [
    {
     "name": "stdout",
     "output_type": "stream",
     "text": [
      "Fitting 5 folds for each of 10 candidates, totalling 50 fits\n",
      "F1 для логистической регрессии на BERT равен: 0.91\n"
     ]
    }
   ],
   "source": [
    "Lin_bert = []\n",
    "\n",
    "F1, time_fit, lin_model = Randomiz_search(\n",
    "    LogisticRegression(class_weight='balanced', random_state=state),\n",
    "    params_lr_bert, \n",
    "    X_train_bert, y_train_bert\n",
    ")\n",
    "\n",
    "Lin_bert.append(F1)\n",
    "Lin_bert.append(time_fit)\n",
    "Lin_bert.append(1)\n",
    "\n",
    "print('F1 для логистической регрессии на BERT равен:', F1)"
   ]
  },
  {
   "cell_type": "markdown",
   "metadata": {},
   "source": [
    "#### Найдём F1 с помощью дерева решений"
   ]
  },
  {
   "cell_type": "code",
   "execution_count": 55,
   "metadata": {},
   "outputs": [
    {
     "name": "stdout",
     "output_type": "stream",
     "text": [
      "Fitting 5 folds for each of 10 candidates, totalling 50 fits\n",
      "F1 для дерева решений на BERT равен: 0.9\n"
     ]
    }
   ],
   "source": [
    "Tree_bert = []\n",
    "\n",
    "F1, time_fit, tree_model = Randomiz_search(\n",
    "    DecisionTreeClassifier(class_weight='balanced', random_state=state),\n",
    "    tree_params_bert, \n",
    "    X_train_bert, y_train_bert\n",
    ")\n",
    "\n",
    "Tree_bert.append(F1)\n",
    "Tree_bert.append(time_fit)\n",
    "Tree_bert.append(1)\n",
    "\n",
    "print('F1 для дерева решений на BERT равен:', F1)"
   ]
  },
  {
   "cell_type": "markdown",
   "metadata": {},
   "source": [
    "#### Найдём F1 с помощью XGBoost"
   ]
  },
  {
   "cell_type": "code",
   "execution_count": 58,
   "metadata": {},
   "outputs": [
    {
     "name": "stdout",
     "output_type": "stream",
     "text": [
      "Fitting 5 folds for each of 4 candidates, totalling 20 fits\n",
      "F1 для XGBoost на BERT равен: 0.92\n"
     ]
    }
   ],
   "source": [
    "XGBoost_bert = []\n",
    "\n",
    "F1, time_fit, XGBoost_model = Randomiz_search(\n",
    "    LGBMClassifier(class_weight='balanced', random_state=state, n_estimators=30, enable_categorical=True),\n",
    "    XGBoost_params_bert,\n",
    "    X_train_bert, y_train_bert\n",
    ")\n",
    "\n",
    "XGBoost_bert.append(F1)\n",
    "XGBoost_bert.append(time_fit)\n",
    "XGBoost_bert.append(1)\n",
    "\n",
    "\n",
    "print('F1 для XGBoost на BERT равен:', F1)"
   ]
  },
  {
   "cell_type": "markdown",
   "metadata": {},
   "source": [
    "### Создадим таблицу из полученных результатов"
   ]
  },
  {
   "cell_type": "markdown",
   "metadata": {},
   "source": [
    "Для начала сохраним список полученных результатов в ходе работы"
   ]
  },
  {
   "cell_type": "code",
   "execution_count": 59,
   "metadata": {},
   "outputs": [],
   "source": [
    "res_values = []\n",
    "res_values.append(Lin)\n",
    "res_values.append(Tree)\n",
    "res_values.append(XGBoost)\n",
    "res_values.append(Lin_bert)\n",
    "res_values.append(Tree_bert)\n",
    "res_values.append(XGBoost_bert)"
   ]
  },
  {
   "cell_type": "markdown",
   "metadata": {},
   "source": [
    "Создадим датафрейм"
   ]
  },
  {
   "cell_type": "code",
   "execution_count": 60,
   "metadata": {},
   "outputs": [],
   "source": [
    "res = pd.DataFrame(res_values, \n",
    "                   columns = ['F1', 'time_fit', 'BERT'],\n",
    "                   index=[\n",
    "                        'Lin', \n",
    "                        'Tree', \n",
    "                        'XGBoost',\n",
    "                        'Lin_bert', \n",
    "                        'Tree_bert', \n",
    "                        'XGBoost_bert'\n",
    "                         ]\n",
    ")"
   ]
  },
  {
   "cell_type": "markdown",
   "metadata": {},
   "source": [
    "Оценим результаты"
   ]
  },
  {
   "cell_type": "code",
   "execution_count": 61,
   "metadata": {},
   "outputs": [
    {
     "data": {
      "text/html": [
       "<div>\n",
       "<style scoped>\n",
       "    .dataframe tbody tr th:only-of-type {\n",
       "        vertical-align: middle;\n",
       "    }\n",
       "\n",
       "    .dataframe tbody tr th {\n",
       "        vertical-align: top;\n",
       "    }\n",
       "\n",
       "    .dataframe thead th {\n",
       "        text-align: right;\n",
       "    }\n",
       "</style>\n",
       "<table border=\"1\" class=\"dataframe\">\n",
       "  <thead>\n",
       "    <tr style=\"text-align: right;\">\n",
       "      <th></th>\n",
       "      <th>F1</th>\n",
       "      <th>time_fit</th>\n",
       "      <th>BERT</th>\n",
       "    </tr>\n",
       "  </thead>\n",
       "  <tbody>\n",
       "    <tr>\n",
       "      <th>Lin</th>\n",
       "      <td>0.77</td>\n",
       "      <td>111.93</td>\n",
       "      <td>0</td>\n",
       "    </tr>\n",
       "    <tr>\n",
       "      <th>Tree</th>\n",
       "      <td>0.60</td>\n",
       "      <td>89.60</td>\n",
       "      <td>0</td>\n",
       "    </tr>\n",
       "    <tr>\n",
       "      <th>XGBoost</th>\n",
       "      <td>0.73</td>\n",
       "      <td>88.46</td>\n",
       "      <td>0</td>\n",
       "    </tr>\n",
       "    <tr>\n",
       "      <th>Lin_bert</th>\n",
       "      <td>0.91</td>\n",
       "      <td>8.55</td>\n",
       "      <td>1</td>\n",
       "    </tr>\n",
       "    <tr>\n",
       "      <th>Tree_bert</th>\n",
       "      <td>0.90</td>\n",
       "      <td>5.20</td>\n",
       "      <td>1</td>\n",
       "    </tr>\n",
       "    <tr>\n",
       "      <th>XGBoost_bert</th>\n",
       "      <td>0.92</td>\n",
       "      <td>10.86</td>\n",
       "      <td>1</td>\n",
       "    </tr>\n",
       "  </tbody>\n",
       "</table>\n",
       "</div>"
      ],
      "text/plain": [
       "               F1  time_fit  BERT\n",
       "Lin          0.77    111.93     0\n",
       "Tree         0.60     89.60     0\n",
       "XGBoost      0.73     88.46     0\n",
       "Lin_bert     0.91      8.55     1\n",
       "Tree_bert    0.90      5.20     1\n",
       "XGBoost_bert 0.92     10.86     1"
      ]
     },
     "execution_count": 61,
     "metadata": {},
     "output_type": "execute_result"
    }
   ],
   "source": [
    "res"
   ]
  },
  {
   "cell_type": "markdown",
   "metadata": {},
   "source": [
    "**Наилучший результат показал ансамбль XGBoost на BERT. На нем и прогоним тестовую выборку**\n"
   ]
  },
  {
   "cell_type": "markdown",
   "metadata": {},
   "source": [
    "### Посмотрим результаты на тестовой выборке"
   ]
  },
  {
   "cell_type": "code",
   "execution_count": 65,
   "metadata": {},
   "outputs": [
    {
     "name": "stdout",
     "output_type": "stream",
     "text": [
      "F1для XGBoost на тестовой выборке с BERT равен: 0.8955223880597014\n"
     ]
    }
   ],
   "source": [
    "pred = XGBoost_model.predict(X_test_bert)\n",
    "F1 = f1_score(y_test_bert, pred)\n",
    "print('F1 для XGBoost на тестовой выборке с BERT равен:', F1)"
   ]
  },
  {
   "cell_type": "markdown",
   "metadata": {},
   "source": [
    "### Проверим модель на адекватность"
   ]
  },
  {
   "cell_type": "code",
   "execution_count": 67,
   "metadata": {},
   "outputs": [
    {
     "name": "stdout",
     "output_type": "stream",
     "text": [
      "F1 на DummyClassifier равен: 0.0\n"
     ]
    }
   ],
   "source": [
    "dummy_clf = DummyClassifier(strategy=\"most_frequent\")\n",
    "dummy_clf.fit(X_train, y_train)\n",
    "test_model_prediction = dummy_clf.predict(X_test)\n",
    "\n",
    "f1 = f1_score(y_test, test_model_prediction)\n",
    "\n",
    "print('F1 на DummyClassifier равен:', f1)"
   ]
  },
  {
   "cell_type": "markdown",
   "metadata": {},
   "source": [
    "Модель адекватна"
   ]
  },
  {
   "cell_type": "markdown",
   "metadata": {},
   "source": [
    "## Выводы"
   ]
  },
  {
   "cell_type": "markdown",
   "metadata": {},
   "source": [
    "**По итогам лучшей моделью машинного обучения для классификации комментариев оказалась модель LogisticRegression, данные для которой были получены с помощью библиотеки spaCy и векторизованны с помощью TfidfVectorizer. На тестовой выборке эта модель машинного обучения показала метрику, удовлетворяющую условиям выполнения данного проекта.**\n",
    "\n",
    "**Загружен датасет, получена общая информация, проведена проверка на дубликаты и пропуски, произведена проверка соотношения классов. Произведена подготовка текста с помощью библиотеки spaCy для выполнения задачи классификации комментариев без использования модели BERT, подготовлены обучающая и тестовые выборки общего датасета. Произведена подготовка текста для работы модели BERT, произведена балансировка классов. Данные для обучения моделей машинного обучения подготовлены, выполнено обучение моделей-классификаторов машинного обучения на данных подготовленных как с помощью библиотеки spaCy и векторайзера TF-IDF Vectorizer, так и модели BERT**"
   ]
  }
 ],
 "metadata": {
  "ExecuteTimeLog": [
   {
    "duration": 1662,
    "start_time": "2023-01-19T12:08:06.316Z"
   },
   {
    "duration": 5,
    "start_time": "2023-01-19T12:11:46.983Z"
   },
   {
    "duration": 3,
    "start_time": "2023-01-19T12:11:47.236Z"
   },
   {
    "duration": 4,
    "start_time": "2023-01-19T12:14:25.126Z"
   },
   {
    "duration": 3,
    "start_time": "2023-01-19T12:14:25.444Z"
   },
   {
    "duration": 2,
    "start_time": "2023-01-19T12:14:25.922Z"
   },
   {
    "duration": 4302,
    "start_time": "2023-01-19T12:14:26.384Z"
   },
   {
    "duration": 13,
    "start_time": "2023-01-19T12:18:49.787Z"
   },
   {
    "duration": 7,
    "start_time": "2023-01-19T12:19:13.212Z"
   },
   {
    "duration": 31,
    "start_time": "2023-01-19T12:19:19.024Z"
   },
   {
    "duration": 23,
    "start_time": "2023-01-19T12:27:54.546Z"
   },
   {
    "duration": 5,
    "start_time": "2023-01-19T12:28:05.150Z"
   },
   {
    "duration": 5,
    "start_time": "2023-01-19T12:28:36.861Z"
   },
   {
    "duration": 2422,
    "start_time": "2023-01-19T12:59:20.297Z"
   },
   {
    "duration": 5,
    "start_time": "2023-01-19T12:59:24.900Z"
   },
   {
    "duration": 145,
    "start_time": "2023-01-19T13:08:14.049Z"
   },
   {
    "duration": 116,
    "start_time": "2023-01-19T13:08:44.463Z"
   },
   {
    "duration": 11185,
    "start_time": "2023-01-19T13:09:03.863Z"
   },
   {
    "duration": 4,
    "start_time": "2023-01-19T13:09:15.981Z"
   },
   {
    "duration": 2,
    "start_time": "2023-01-19T13:09:16.749Z"
   },
   {
    "duration": 2,
    "start_time": "2023-01-19T13:09:17.256Z"
   },
   {
    "duration": 796,
    "start_time": "2023-01-19T13:09:17.449Z"
   },
   {
    "duration": 3,
    "start_time": "2023-01-19T13:09:18.246Z"
   },
   {
    "duration": 9,
    "start_time": "2023-01-19T13:09:18.250Z"
   },
   {
    "duration": 33,
    "start_time": "2023-01-19T13:09:18.261Z"
   },
   {
    "duration": 4,
    "start_time": "2023-01-19T13:09:18.296Z"
   },
   {
    "duration": 47,
    "start_time": "2023-01-19T13:58:09.127Z"
   },
   {
    "duration": 1550,
    "start_time": "2023-01-19T13:58:37.465Z"
   },
   {
    "duration": 2,
    "start_time": "2023-01-19T13:58:39.017Z"
   },
   {
    "duration": 6,
    "start_time": "2023-01-19T13:58:39.020Z"
   },
   {
    "duration": 3153,
    "start_time": "2023-01-19T13:58:39.028Z"
   },
   {
    "duration": 2,
    "start_time": "2023-01-19T13:58:42.183Z"
   },
   {
    "duration": 18,
    "start_time": "2023-01-19T13:58:42.187Z"
   },
   {
    "duration": 41,
    "start_time": "2023-01-19T13:58:42.207Z"
   },
   {
    "duration": 6,
    "start_time": "2023-01-19T13:58:42.250Z"
   },
   {
    "duration": 2009,
    "start_time": "2023-01-19T13:58:42.258Z"
   },
   {
    "duration": 10858,
    "start_time": "2023-01-19T13:58:44.269Z"
   },
   {
    "duration": 83,
    "start_time": "2023-01-19T14:01:38.989Z"
   },
   {
    "duration": 9,
    "start_time": "2023-01-19T14:01:49.253Z"
   },
   {
    "duration": 4,
    "start_time": "2023-01-19T14:06:52.283Z"
   },
   {
    "duration": 4,
    "start_time": "2023-01-19T14:06:52.478Z"
   },
   {
    "duration": 3,
    "start_time": "2023-01-19T14:07:06.461Z"
   },
   {
    "duration": 4,
    "start_time": "2023-01-19T14:11:18.487Z"
   },
   {
    "duration": 4,
    "start_time": "2023-01-19T14:12:37.526Z"
   },
   {
    "duration": 4,
    "start_time": "2023-01-19T14:12:41.927Z"
   },
   {
    "duration": 11,
    "start_time": "2023-01-19T14:12:44.097Z"
   },
   {
    "duration": 12,
    "start_time": "2023-01-19T14:12:49.791Z"
   },
   {
    "duration": 75,
    "start_time": "2023-01-19T14:13:19.695Z"
   },
   {
    "duration": 100151,
    "start_time": "2023-01-19T14:13:23.972Z"
   },
   {
    "duration": 4,
    "start_time": "2023-01-19T14:15:13.827Z"
   },
   {
    "duration": 176,
    "start_time": "2023-01-19T14:23:52.809Z"
   },
   {
    "duration": 1640,
    "start_time": "2023-01-19T15:08:06.145Z"
   },
   {
    "duration": 173,
    "start_time": "2023-01-19T15:08:07.787Z"
   },
   {
    "duration": 6,
    "start_time": "2023-01-19T15:08:07.962Z"
   },
   {
    "duration": 3,
    "start_time": "2023-01-19T15:08:08.008Z"
   },
   {
    "duration": 2397,
    "start_time": "2023-01-19T15:08:08.332Z"
   },
   {
    "duration": 16,
    "start_time": "2023-01-19T15:08:10.731Z"
   },
   {
    "duration": 3,
    "start_time": "2023-01-19T15:08:10.749Z"
   },
   {
    "duration": 20,
    "start_time": "2023-01-19T15:08:10.754Z"
   },
   {
    "duration": 13,
    "start_time": "2023-01-19T15:08:10.896Z"
   },
   {
    "duration": 12,
    "start_time": "2023-01-19T15:08:11.545Z"
   },
   {
    "duration": 54,
    "start_time": "2023-01-19T15:08:12.348Z"
   },
   {
    "duration": 2,
    "start_time": "2023-01-19T15:08:12.554Z"
   },
   {
    "duration": 2,
    "start_time": "2023-01-19T15:08:12.711Z"
   },
   {
    "duration": 4,
    "start_time": "2023-01-19T15:08:16.017Z"
   },
   {
    "duration": 11,
    "start_time": "2023-01-19T15:08:16.023Z"
   },
   {
    "duration": 15,
    "start_time": "2023-01-19T15:08:16.035Z"
   },
   {
    "duration": 9,
    "start_time": "2023-01-19T15:08:16.051Z"
   },
   {
    "duration": 3894,
    "start_time": "2023-01-19T15:08:16.062Z"
   },
   {
    "duration": 5,
    "start_time": "2023-01-19T15:08:19.957Z"
   },
   {
    "duration": 86,
    "start_time": "2023-01-19T15:12:05.630Z"
   },
   {
    "duration": 469,
    "start_time": "2023-01-19T15:12:37.488Z"
   },
   {
    "duration": 1803,
    "start_time": "2023-01-19T15:12:41.745Z"
   },
   {
    "duration": 4,
    "start_time": "2023-01-19T15:12:56.607Z"
   },
   {
    "duration": 7137,
    "start_time": "2023-01-19T15:19:49.601Z"
   },
   {
    "duration": 9,
    "start_time": "2023-01-19T15:19:56.741Z"
   },
   {
    "duration": 5,
    "start_time": "2023-01-19T15:20:03.768Z"
   },
   {
    "duration": 4,
    "start_time": "2023-01-19T15:20:15.431Z"
   },
   {
    "duration": 18089,
    "start_time": "2023-01-19T15:23:56.304Z"
   },
   {
    "duration": 239,
    "start_time": "2023-01-19T15:25:13.377Z"
   },
   {
    "duration": 3,
    "start_time": "2023-01-19T15:25:44.615Z"
   },
   {
    "duration": 90,
    "start_time": "2023-01-19T15:25:50.212Z"
   },
   {
    "duration": 1921,
    "start_time": "2023-01-19T15:27:39.903Z"
   },
   {
    "duration": 25,
    "start_time": "2023-01-19T15:27:41.826Z"
   },
   {
    "duration": 3,
    "start_time": "2023-01-19T15:27:41.853Z"
   },
   {
    "duration": 439,
    "start_time": "2023-01-19T15:27:41.859Z"
   },
   {
    "duration": 3,
    "start_time": "2023-01-19T15:27:42.300Z"
   },
   {
    "duration": 787,
    "start_time": "2023-01-19T15:27:42.305Z"
   },
   {
    "duration": 16,
    "start_time": "2023-01-19T15:27:43.094Z"
   },
   {
    "duration": 14,
    "start_time": "2023-01-19T15:27:43.112Z"
   },
   {
    "duration": 17,
    "start_time": "2023-01-19T15:27:43.128Z"
   },
   {
    "duration": 11,
    "start_time": "2023-01-19T15:27:43.147Z"
   },
   {
    "duration": 21,
    "start_time": "2023-01-19T15:27:43.160Z"
   },
   {
    "duration": 16,
    "start_time": "2023-01-19T15:27:43.182Z"
   },
   {
    "duration": 14,
    "start_time": "2023-01-19T15:27:43.200Z"
   },
   {
    "duration": 9,
    "start_time": "2023-01-19T15:27:43.216Z"
   },
   {
    "duration": 20,
    "start_time": "2023-01-19T15:27:43.226Z"
   },
   {
    "duration": 28,
    "start_time": "2023-01-19T15:27:43.247Z"
   },
   {
    "duration": 7,
    "start_time": "2023-01-19T15:27:43.277Z"
   },
   {
    "duration": 11,
    "start_time": "2023-01-19T15:27:43.286Z"
   },
   {
    "duration": 1497,
    "start_time": "2023-01-19T15:27:43.298Z"
   },
   {
    "duration": 5,
    "start_time": "2023-01-19T15:27:44.797Z"
   },
   {
    "duration": 1687,
    "start_time": "2023-01-19T15:27:44.803Z"
   },
   {
    "duration": 3,
    "start_time": "2023-01-19T15:27:46.492Z"
   },
   {
    "duration": 649,
    "start_time": "2023-01-19T15:27:46.496Z"
   },
   {
    "duration": 4,
    "start_time": "2023-01-19T15:27:47.146Z"
   },
   {
    "duration": 9,
    "start_time": "2023-01-19T15:27:47.151Z"
   },
   {
    "duration": 5,
    "start_time": "2023-01-19T15:27:47.161Z"
   },
   {
    "duration": 2287,
    "start_time": "2023-01-19T15:27:47.168Z"
   },
   {
    "duration": 393,
    "start_time": "2023-01-19T15:27:49.458Z"
   },
   {
    "duration": 3,
    "start_time": "2023-01-19T15:35:32.839Z"
   },
   {
    "duration": 54,
    "start_time": "2023-01-19T15:35:37.903Z"
   },
   {
    "duration": 4,
    "start_time": "2023-01-19T15:37:19.470Z"
   },
   {
    "duration": 39,
    "start_time": "2023-01-19T15:37:27.536Z"
   },
   {
    "duration": 5,
    "start_time": "2023-01-19T15:37:37.903Z"
   },
   {
    "duration": 4,
    "start_time": "2023-01-19T15:37:40.733Z"
   },
   {
    "duration": 5,
    "start_time": "2023-01-19T15:37:41.115Z"
   },
   {
    "duration": 31,
    "start_time": "2023-01-19T15:37:41.693Z"
   },
   {
    "duration": 6,
    "start_time": "2023-01-19T15:39:30.380Z"
   },
   {
    "duration": 700,
    "start_time": "2023-01-19T15:39:35.602Z"
   },
   {
    "duration": 62,
    "start_time": "2023-01-19T15:39:44.464Z"
   },
   {
    "duration": 765,
    "start_time": "2023-01-19T15:39:54.138Z"
   },
   {
    "duration": 398,
    "start_time": "2023-01-19T15:46:43.327Z"
   },
   {
    "duration": 794,
    "start_time": "2023-01-19T15:46:56.795Z"
   },
   {
    "duration": 20,
    "start_time": "2023-01-19T15:47:03.937Z"
   },
   {
    "duration": 7,
    "start_time": "2023-01-19T15:47:07.728Z"
   },
   {
    "duration": 332,
    "start_time": "2023-01-19T15:51:13.028Z"
   },
   {
    "duration": 296270,
    "start_time": "2023-01-19T15:51:33.574Z"
   },
   {
    "duration": 12,
    "start_time": "2023-01-19T15:56:34.912Z"
   },
   {
    "duration": 319739,
    "start_time": "2023-01-19T15:57:09.598Z"
   },
   {
    "duration": 15,
    "start_time": "2023-01-19T16:05:56.036Z"
   },
   {
    "duration": 229,
    "start_time": "2023-01-19T16:06:33.957Z"
   },
   {
    "duration": 2102,
    "start_time": "2023-01-19T16:25:26.105Z"
   },
   {
    "duration": 3,
    "start_time": "2023-01-19T16:25:28.209Z"
   },
   {
    "duration": 11,
    "start_time": "2023-01-19T16:25:28.214Z"
   },
   {
    "duration": 509,
    "start_time": "2023-01-19T16:25:28.228Z"
   },
   {
    "duration": 8,
    "start_time": "2023-01-19T16:25:28.739Z"
   },
   {
    "duration": 2524,
    "start_time": "2023-01-19T16:25:28.749Z"
   },
   {
    "duration": 16,
    "start_time": "2023-01-19T16:25:31.275Z"
   },
   {
    "duration": 2,
    "start_time": "2023-01-19T16:25:31.529Z"
   },
   {
    "duration": 11,
    "start_time": "2023-01-19T16:25:32.565Z"
   },
   {
    "duration": 11,
    "start_time": "2023-01-19T16:25:33.419Z"
   },
   {
    "duration": 10,
    "start_time": "2023-01-19T16:25:34.211Z"
   },
   {
    "duration": 13,
    "start_time": "2023-01-19T16:25:35.649Z"
   },
   {
    "duration": 2,
    "start_time": "2023-01-19T16:25:41.770Z"
   },
   {
    "duration": 3,
    "start_time": "2023-01-19T16:25:42.361Z"
   },
   {
    "duration": 192,
    "start_time": "2023-01-19T16:25:45.328Z"
   },
   {
    "duration": 7,
    "start_time": "2023-01-19T16:26:24.470Z"
   },
   {
    "duration": 12,
    "start_time": "2023-01-19T16:26:31.490Z"
   },
   {
    "duration": 5,
    "start_time": "2023-01-19T16:27:01.212Z"
   },
   {
    "duration": 4,
    "start_time": "2023-01-19T16:27:02.070Z"
   },
   {
    "duration": 2,
    "start_time": "2023-01-19T16:27:02.376Z"
   },
   {
    "duration": 2,
    "start_time": "2023-01-19T16:27:02.587Z"
   },
   {
    "duration": 3,
    "start_time": "2023-01-19T16:27:02.764Z"
   },
   {
    "duration": 849,
    "start_time": "2023-01-19T16:27:02.970Z"
   },
   {
    "duration": 16,
    "start_time": "2023-01-19T16:27:03.821Z"
   },
   {
    "duration": 32,
    "start_time": "2023-01-19T16:27:03.844Z"
   },
   {
    "duration": 15,
    "start_time": "2023-01-19T16:27:03.879Z"
   },
   {
    "duration": 20,
    "start_time": "2023-01-19T16:27:03.895Z"
   },
   {
    "duration": 10,
    "start_time": "2023-01-19T16:27:04.089Z"
   },
   {
    "duration": 8,
    "start_time": "2023-01-19T16:27:04.333Z"
   },
   {
    "duration": 4,
    "start_time": "2023-01-19T16:27:04.766Z"
   },
   {
    "duration": 3,
    "start_time": "2023-01-19T16:27:05.037Z"
   },
   {
    "duration": 14,
    "start_time": "2023-01-19T16:27:05.923Z"
   },
   {
    "duration": 3,
    "start_time": "2023-01-19T16:27:21.766Z"
   },
   {
    "duration": 14,
    "start_time": "2023-01-19T16:27:23.574Z"
   },
   {
    "duration": 5,
    "start_time": "2023-01-19T16:27:39.776Z"
   },
   {
    "duration": 1942,
    "start_time": "2023-01-19T16:27:41.881Z"
   },
   {
    "duration": 2764,
    "start_time": "2023-01-19T16:28:18.554Z"
   },
   {
    "duration": 3,
    "start_time": "2023-01-19T16:28:21.320Z"
   },
   {
    "duration": 7,
    "start_time": "2023-01-19T16:28:21.325Z"
   },
   {
    "duration": 515,
    "start_time": "2023-01-19T16:28:21.334Z"
   },
   {
    "duration": 6,
    "start_time": "2023-01-19T16:28:21.852Z"
   },
   {
    "duration": 964,
    "start_time": "2023-01-19T16:28:21.861Z"
   },
   {
    "duration": 25,
    "start_time": "2023-01-19T16:28:22.826Z"
   },
   {
    "duration": 29,
    "start_time": "2023-01-19T16:28:22.853Z"
   },
   {
    "duration": 13,
    "start_time": "2023-01-19T16:28:22.884Z"
   },
   {
    "duration": 10,
    "start_time": "2023-01-19T16:28:22.899Z"
   },
   {
    "duration": 11,
    "start_time": "2023-01-19T16:28:22.910Z"
   },
   {
    "duration": 7,
    "start_time": "2023-01-19T16:28:22.923Z"
   },
   {
    "duration": 2,
    "start_time": "2023-01-19T16:28:22.936Z"
   },
   {
    "duration": 38,
    "start_time": "2023-01-19T16:28:22.944Z"
   },
   {
    "duration": 195,
    "start_time": "2023-01-19T16:28:22.983Z"
   },
   {
    "duration": 5,
    "start_time": "2023-01-19T16:28:35.191Z"
   },
   {
    "duration": 1691,
    "start_time": "2023-01-19T16:28:39.190Z"
   },
   {
    "duration": 14,
    "start_time": "2023-01-19T16:28:51.369Z"
   },
   {
    "duration": 4,
    "start_time": "2023-01-19T16:31:34.129Z"
   },
   {
    "duration": 7,
    "start_time": "2023-01-19T16:36:09.901Z"
   },
   {
    "duration": 4,
    "start_time": "2023-01-19T16:36:10.255Z"
   },
   {
    "duration": 3,
    "start_time": "2023-01-19T16:36:10.511Z"
   },
   {
    "duration": 3,
    "start_time": "2023-01-19T16:36:10.782Z"
   },
   {
    "duration": 3,
    "start_time": "2023-01-19T16:36:11.076Z"
   },
   {
    "duration": 907,
    "start_time": "2023-01-19T16:36:11.299Z"
   },
   {
    "duration": 17,
    "start_time": "2023-01-19T16:36:12.208Z"
   },
   {
    "duration": 7,
    "start_time": "2023-01-19T16:36:12.227Z"
   },
   {
    "duration": 17,
    "start_time": "2023-01-19T16:36:12.236Z"
   },
   {
    "duration": 15,
    "start_time": "2023-01-19T16:36:12.404Z"
   },
   {
    "duration": 13,
    "start_time": "2023-01-19T16:36:12.700Z"
   },
   {
    "duration": 8,
    "start_time": "2023-01-19T16:36:13.065Z"
   },
   {
    "duration": 3,
    "start_time": "2023-01-19T16:36:14.588Z"
   },
   {
    "duration": 3,
    "start_time": "2023-01-19T16:36:14.988Z"
   },
   {
    "duration": 306,
    "start_time": "2023-01-19T16:36:15.766Z"
   },
   {
    "duration": 4,
    "start_time": "2023-01-19T16:36:17.361Z"
   },
   {
    "duration": 4,
    "start_time": "2023-01-19T16:36:21.129Z"
   },
   {
    "duration": 4,
    "start_time": "2023-01-19T16:36:27.178Z"
   },
   {
    "duration": 2210,
    "start_time": "2023-01-19T16:36:36.184Z"
   },
   {
    "duration": 4,
    "start_time": "2023-01-19T16:36:38.396Z"
   },
   {
    "duration": 648,
    "start_time": "2023-01-19T16:36:40.599Z"
   },
   {
    "duration": 7,
    "start_time": "2023-01-19T16:36:41.249Z"
   },
   {
    "duration": 4,
    "start_time": "2023-01-19T16:36:41.821Z"
   },
   {
    "duration": 6,
    "start_time": "2023-01-19T16:36:42.792Z"
   },
   {
    "duration": 20203,
    "start_time": "2023-01-19T16:36:43.705Z"
   },
   {
    "duration": 377,
    "start_time": "2023-01-19T16:37:03.910Z"
   },
   {
    "duration": 4,
    "start_time": "2023-01-19T16:42:40.580Z"
   },
   {
    "duration": 6,
    "start_time": "2023-01-19T16:44:46.372Z"
   },
   {
    "duration": 6,
    "start_time": "2023-01-19T16:44:46.380Z"
   },
   {
    "duration": 6,
    "start_time": "2023-01-19T16:44:46.388Z"
   },
   {
    "duration": 4,
    "start_time": "2023-01-19T16:44:46.396Z"
   },
   {
    "duration": 4,
    "start_time": "2023-01-19T16:44:46.402Z"
   },
   {
    "duration": 894,
    "start_time": "2023-01-19T16:44:46.408Z"
   },
   {
    "duration": 17,
    "start_time": "2023-01-19T16:44:47.304Z"
   },
   {
    "duration": 5,
    "start_time": "2023-01-19T16:44:47.323Z"
   },
   {
    "duration": 50,
    "start_time": "2023-01-19T16:44:47.330Z"
   },
   {
    "duration": 12,
    "start_time": "2023-01-19T16:44:47.382Z"
   },
   {
    "duration": 16,
    "start_time": "2023-01-19T16:44:47.395Z"
   },
   {
    "duration": 79,
    "start_time": "2023-01-19T16:44:47.413Z"
   },
   {
    "duration": 5,
    "start_time": "2023-01-19T16:44:47.494Z"
   },
   {
    "duration": 13,
    "start_time": "2023-01-19T16:44:47.500Z"
   },
   {
    "duration": 3153,
    "start_time": "2023-01-19T16:44:47.514Z"
   },
   {
    "duration": 12,
    "start_time": "2023-01-19T16:44:50.677Z"
   },
   {
    "duration": 11,
    "start_time": "2023-01-19T16:44:50.690Z"
   },
   {
    "duration": 391,
    "start_time": "2023-01-19T16:44:50.702Z"
   },
   {
    "duration": 4,
    "start_time": "2023-01-19T16:44:51.095Z"
   },
   {
    "duration": 7835,
    "start_time": "2023-01-19T16:44:51.101Z"
   },
   {
    "duration": 8,
    "start_time": "2023-01-19T16:44:58.937Z"
   },
   {
    "duration": 30,
    "start_time": "2023-01-19T16:44:58.947Z"
   },
   {
    "duration": 16,
    "start_time": "2023-01-19T16:44:58.978Z"
   },
   {
    "duration": 12399,
    "start_time": "2023-01-19T16:44:58.996Z"
   },
   {
    "duration": 80,
    "start_time": "2023-01-19T16:45:11.397Z"
   },
   {
    "duration": 45,
    "start_time": "2023-01-19T16:46:58.628Z"
   },
   {
    "duration": 25,
    "start_time": "2023-01-19T16:47:07.781Z"
   },
   {
    "duration": 5,
    "start_time": "2023-01-19T16:48:08.737Z"
   },
   {
    "duration": 4,
    "start_time": "2023-01-19T16:48:09.346Z"
   },
   {
    "duration": 2,
    "start_time": "2023-01-19T16:48:09.467Z"
   },
   {
    "duration": 10,
    "start_time": "2023-01-19T16:48:09.472Z"
   },
   {
    "duration": 8,
    "start_time": "2023-01-19T16:48:09.484Z"
   },
   {
    "duration": 820,
    "start_time": "2023-01-19T16:48:09.494Z"
   },
   {
    "duration": 17,
    "start_time": "2023-01-19T16:48:10.316Z"
   },
   {
    "duration": 14,
    "start_time": "2023-01-19T16:48:10.345Z"
   },
   {
    "duration": 11,
    "start_time": "2023-01-19T16:48:10.364Z"
   },
   {
    "duration": 13,
    "start_time": "2023-01-19T16:48:10.376Z"
   },
   {
    "duration": 10,
    "start_time": "2023-01-19T16:48:10.391Z"
   },
   {
    "duration": 8,
    "start_time": "2023-01-19T16:48:10.402Z"
   },
   {
    "duration": 2,
    "start_time": "2023-01-19T16:48:10.412Z"
   },
   {
    "duration": 8,
    "start_time": "2023-01-19T16:48:10.416Z"
   },
   {
    "duration": 368,
    "start_time": "2023-01-19T16:48:10.426Z"
   },
   {
    "duration": 3,
    "start_time": "2023-01-19T16:48:10.798Z"
   },
   {
    "duration": 10,
    "start_time": "2023-01-19T16:48:10.803Z"
   },
   {
    "duration": 213,
    "start_time": "2023-01-19T16:48:10.815Z"
   },
   {
    "duration": 4,
    "start_time": "2023-01-19T16:48:11.030Z"
   },
   {
    "duration": 788,
    "start_time": "2023-01-19T16:48:11.043Z"
   },
   {
    "duration": 16,
    "start_time": "2023-01-19T16:48:11.833Z"
   },
   {
    "duration": 12,
    "start_time": "2023-01-19T16:48:11.857Z"
   },
   {
    "duration": 7,
    "start_time": "2023-01-19T16:48:11.871Z"
   },
   {
    "duration": 2613,
    "start_time": "2023-01-19T16:48:24.074Z"
   },
   {
    "duration": 3,
    "start_time": "2023-01-19T16:48:26.690Z"
   },
   {
    "duration": 52,
    "start_time": "2023-01-19T16:48:26.695Z"
   },
   {
    "duration": 1388,
    "start_time": "2023-01-19T16:48:26.749Z"
   },
   {
    "duration": 3,
    "start_time": "2023-01-19T16:48:28.139Z"
   },
   {
    "duration": 2828,
    "start_time": "2023-01-19T16:48:28.144Z"
   },
   {
    "duration": 24,
    "start_time": "2023-01-19T16:48:30.975Z"
   },
   {
    "duration": 21,
    "start_time": "2023-01-19T16:48:31.001Z"
   },
   {
    "duration": 49,
    "start_time": "2023-01-19T16:48:31.023Z"
   },
   {
    "duration": 18,
    "start_time": "2023-01-19T16:48:31.075Z"
   },
   {
    "duration": 27,
    "start_time": "2023-01-19T16:48:31.095Z"
   },
   {
    "duration": 33,
    "start_time": "2023-01-19T16:48:31.126Z"
   },
   {
    "duration": 25,
    "start_time": "2023-01-19T16:48:31.160Z"
   },
   {
    "duration": 21,
    "start_time": "2023-01-19T16:48:31.186Z"
   },
   {
    "duration": 1730,
    "start_time": "2023-01-19T16:48:31.208Z"
   },
   {
    "duration": 11,
    "start_time": "2023-01-19T16:48:32.950Z"
   },
   {
    "duration": 16,
    "start_time": "2023-01-19T16:48:32.968Z"
   },
   {
    "duration": 6015,
    "start_time": "2023-01-19T16:48:32.986Z"
   },
   {
    "duration": 5,
    "start_time": "2023-01-19T16:48:39.002Z"
   },
   {
    "duration": 632,
    "start_time": "2023-01-19T16:48:39.008Z"
   },
   {
    "duration": 8,
    "start_time": "2023-01-19T16:48:39.646Z"
   },
   {
    "duration": 38,
    "start_time": "2023-01-19T16:48:39.656Z"
   },
   {
    "duration": 21,
    "start_time": "2023-01-19T16:48:39.696Z"
   },
   {
    "duration": 23334,
    "start_time": "2023-01-19T16:48:39.719Z"
   },
   {
    "duration": 458,
    "start_time": "2023-01-19T16:49:03.059Z"
   },
   {
    "duration": 24,
    "start_time": "2023-01-19T16:49:14.986Z"
   },
   {
    "duration": 51,
    "start_time": "2023-01-19T16:49:25.223Z"
   },
   {
    "duration": 23,
    "start_time": "2023-01-19T16:50:47.289Z"
   },
   {
    "duration": 48,
    "start_time": "2023-01-19T16:50:50.229Z"
   },
   {
    "duration": 45,
    "start_time": "2023-01-19T16:50:56.488Z"
   },
   {
    "duration": 56,
    "start_time": "2023-01-19T16:51:00.665Z"
   },
   {
    "duration": 51,
    "start_time": "2023-01-19T16:51:06.209Z"
   },
   {
    "duration": 36,
    "start_time": "2023-01-19T16:51:10.925Z"
   },
   {
    "duration": 60,
    "start_time": "2023-01-19T16:51:21.003Z"
   },
   {
    "duration": 8,
    "start_time": "2023-01-19T17:10:02.156Z"
   },
   {
    "duration": 6,
    "start_time": "2023-01-19T17:10:32.633Z"
   },
   {
    "duration": 41,
    "start_time": "2023-01-19T17:18:36.399Z"
   },
   {
    "duration": 4,
    "start_time": "2023-01-19T17:37:14.642Z"
   },
   {
    "duration": 4,
    "start_time": "2023-01-19T17:37:15.464Z"
   },
   {
    "duration": 206,
    "start_time": "2023-01-19T17:37:17.249Z"
   },
   {
    "duration": 5,
    "start_time": "2023-01-19T17:37:18.966Z"
   },
   {
    "duration": 517,
    "start_time": "2023-01-19T17:37:20.198Z"
   },
   {
    "duration": 3,
    "start_time": "2023-01-19T17:37:21.004Z"
   },
   {
    "duration": 4,
    "start_time": "2023-01-19T17:37:21.579Z"
   },
   {
    "duration": 4,
    "start_time": "2023-01-19T17:37:21.846Z"
   },
   {
    "duration": 2378,
    "start_time": "2023-01-19T17:37:22.059Z"
   },
   {
    "duration": 2131,
    "start_time": "2023-01-19T17:37:42.272Z"
   },
   {
    "duration": 3,
    "start_time": "2023-01-19T17:37:44.405Z"
   },
   {
    "duration": 8,
    "start_time": "2023-01-19T17:37:44.410Z"
   },
   {
    "duration": 1142,
    "start_time": "2023-01-19T17:37:44.420Z"
   },
   {
    "duration": 3,
    "start_time": "2023-01-19T17:37:45.563Z"
   },
   {
    "duration": 2305,
    "start_time": "2023-01-19T17:37:45.567Z"
   },
   {
    "duration": 17,
    "start_time": "2023-01-19T17:37:47.874Z"
   },
   {
    "duration": 13,
    "start_time": "2023-01-19T17:37:47.893Z"
   },
   {
    "duration": 15,
    "start_time": "2023-01-19T17:37:47.907Z"
   },
   {
    "duration": 10,
    "start_time": "2023-01-19T17:37:47.924Z"
   },
   {
    "duration": 17,
    "start_time": "2023-01-19T17:37:47.935Z"
   },
   {
    "duration": 6,
    "start_time": "2023-01-19T17:37:47.954Z"
   },
   {
    "duration": 13,
    "start_time": "2023-01-19T17:37:47.961Z"
   },
   {
    "duration": 9,
    "start_time": "2023-01-19T17:37:47.976Z"
   },
   {
    "duration": 5,
    "start_time": "2023-01-19T17:37:47.986Z"
   },
   {
    "duration": 5,
    "start_time": "2023-01-19T17:37:47.992Z"
   },
   {
    "duration": 1479,
    "start_time": "2023-01-19T17:37:47.998Z"
   },
   {
    "duration": 3,
    "start_time": "2023-01-19T17:37:49.479Z"
   },
   {
    "duration": 8,
    "start_time": "2023-01-19T17:37:49.483Z"
   },
   {
    "duration": 4484,
    "start_time": "2023-01-19T17:37:49.492Z"
   },
   {
    "duration": 5,
    "start_time": "2023-01-19T17:37:53.979Z"
   },
   {
    "duration": 626,
    "start_time": "2023-01-19T17:37:53.986Z"
   },
   {
    "duration": 5,
    "start_time": "2023-01-19T17:37:54.614Z"
   },
   {
    "duration": 14,
    "start_time": "2023-01-19T17:37:54.620Z"
   },
   {
    "duration": 17,
    "start_time": "2023-01-19T17:37:54.636Z"
   },
   {
    "duration": 17002,
    "start_time": "2023-01-19T17:37:54.655Z"
   },
   {
    "duration": 48,
    "start_time": "2023-01-19T17:44:49.803Z"
   },
   {
    "duration": 6,
    "start_time": "2023-01-19T17:51:23.211Z"
   },
   {
    "duration": 6,
    "start_time": "2023-01-19T22:53:18.668Z"
   },
   {
    "duration": 3,
    "start_time": "2023-01-19T22:53:19.128Z"
   },
   {
    "duration": 2,
    "start_time": "2023-01-19T22:53:19.511Z"
   },
   {
    "duration": 8,
    "start_time": "2023-01-19T22:53:19.849Z"
   },
   {
    "duration": 3,
    "start_time": "2023-01-19T22:53:20.064Z"
   },
   {
    "duration": 825,
    "start_time": "2023-01-19T22:53:20.281Z"
   },
   {
    "duration": 18,
    "start_time": "2023-01-19T22:53:21.108Z"
   },
   {
    "duration": 9,
    "start_time": "2023-01-19T22:53:21.127Z"
   },
   {
    "duration": 15,
    "start_time": "2023-01-19T22:53:21.148Z"
   },
   {
    "duration": 9,
    "start_time": "2023-01-19T22:53:21.310Z"
   },
   {
    "duration": 9,
    "start_time": "2023-01-19T22:53:21.532Z"
   },
   {
    "duration": 6,
    "start_time": "2023-01-19T22:53:22.066Z"
   },
   {
    "duration": 5,
    "start_time": "2023-01-19T22:53:22.269Z"
   },
   {
    "duration": 6,
    "start_time": "2023-01-19T22:53:22.436Z"
   },
   {
    "duration": 2,
    "start_time": "2023-01-19T22:53:22.617Z"
   },
   {
    "duration": 2,
    "start_time": "2023-01-19T22:53:22.773Z"
   },
   {
    "duration": 295,
    "start_time": "2023-01-19T22:53:23.064Z"
   },
   {
    "duration": 3,
    "start_time": "2023-01-19T22:53:23.413Z"
   },
   {
    "duration": 5,
    "start_time": "2023-01-19T22:53:23.577Z"
   },
   {
    "duration": 3,
    "start_time": "2023-01-19T22:53:24.542Z"
   },
   {
    "duration": 16,
    "start_time": "2023-01-19T22:53:24.705Z"
   },
   {
    "duration": 18,
    "start_time": "2023-01-19T22:53:25.561Z"
   },
   {
    "duration": 260,
    "start_time": "2023-01-19T22:53:26.268Z"
   },
   {
    "duration": 25,
    "start_time": "2023-01-19T22:53:26.564Z"
   },
   {
    "duration": 334,
    "start_time": "2023-01-19T22:53:56.817Z"
   },
   {
    "duration": 4,
    "start_time": "2023-01-19T22:53:59.334Z"
   },
   {
    "duration": 630,
    "start_time": "2023-01-19T22:54:02.363Z"
   },
   {
    "duration": 5,
    "start_time": "2023-01-19T22:54:04.136Z"
   },
   {
    "duration": 4,
    "start_time": "2023-01-19T22:54:05.322Z"
   },
   {
    "duration": 5,
    "start_time": "2023-01-19T22:54:06.005Z"
   },
   {
    "duration": 17,
    "start_time": "2023-01-19T22:54:06.955Z"
   },
   {
    "duration": 19218,
    "start_time": "2023-01-19T22:54:13.023Z"
   },
   {
    "duration": 3,
    "start_time": "2023-01-19T22:59:40.225Z"
   },
   {
    "duration": 3813,
    "start_time": "2023-01-19T23:00:00.443Z"
   },
   {
    "duration": 4,
    "start_time": "2023-01-19T23:00:04.258Z"
   },
   {
    "duration": 21,
    "start_time": "2023-01-19T23:00:04.267Z"
   },
   {
    "duration": 649,
    "start_time": "2023-01-19T23:00:04.290Z"
   },
   {
    "duration": 3,
    "start_time": "2023-01-19T23:00:04.941Z"
   },
   {
    "duration": 2899,
    "start_time": "2023-01-19T23:00:04.946Z"
   },
   {
    "duration": 29,
    "start_time": "2023-01-19T23:00:07.847Z"
   },
   {
    "duration": 19,
    "start_time": "2023-01-19T23:00:07.877Z"
   },
   {
    "duration": 30,
    "start_time": "2023-01-19T23:00:07.897Z"
   },
   {
    "duration": 49,
    "start_time": "2023-01-19T23:00:07.931Z"
   },
   {
    "duration": 29,
    "start_time": "2023-01-19T23:00:07.982Z"
   },
   {
    "duration": 18,
    "start_time": "2023-01-19T23:00:08.013Z"
   },
   {
    "duration": 46,
    "start_time": "2023-01-19T23:00:08.033Z"
   },
   {
    "duration": 31,
    "start_time": "2023-01-19T23:00:08.081Z"
   },
   {
    "duration": 32,
    "start_time": "2023-01-19T23:00:08.114Z"
   },
   {
    "duration": 40,
    "start_time": "2023-01-19T23:00:08.148Z"
   },
   {
    "duration": 1721,
    "start_time": "2023-01-19T23:00:08.190Z"
   },
   {
    "duration": 4,
    "start_time": "2023-01-19T23:00:09.913Z"
   },
   {
    "duration": 23,
    "start_time": "2023-01-19T23:00:09.919Z"
   },
   {
    "duration": 5549,
    "start_time": "2023-01-19T23:00:09.948Z"
   },
   {
    "duration": 394,
    "start_time": "2023-01-19T23:00:15.499Z"
   },
   {
    "duration": 4,
    "start_time": "2023-01-19T23:00:15.895Z"
   },
   {
    "duration": 776,
    "start_time": "2023-01-19T23:00:15.901Z"
   },
   {
    "duration": 5,
    "start_time": "2023-01-19T23:00:16.682Z"
   },
   {
    "duration": 24,
    "start_time": "2023-01-19T23:00:16.689Z"
   },
   {
    "duration": 7,
    "start_time": "2023-01-19T23:00:16.715Z"
   },
   {
    "duration": 26,
    "start_time": "2023-01-19T23:00:16.724Z"
   },
   {
    "duration": 452,
    "start_time": "2023-01-19T23:00:16.754Z"
   },
   {
    "duration": 0,
    "start_time": "2023-01-19T23:00:17.209Z"
   },
   {
    "duration": 0,
    "start_time": "2023-01-19T23:00:17.209Z"
   },
   {
    "duration": 14317,
    "start_time": "2023-01-19T23:01:08.442Z"
   },
   {
    "duration": 21,
    "start_time": "2023-01-19T23:04:36.993Z"
   },
   {
    "duration": 417,
    "start_time": "2023-01-19T23:05:08.525Z"
   },
   {
    "duration": 11,
    "start_time": "2023-01-19T23:05:26.133Z"
   },
   {
    "duration": 121,
    "start_time": "2023-01-19T23:05:29.052Z"
   },
   {
    "duration": 595,
    "start_time": "2023-01-19T23:06:12.266Z"
   },
   {
    "duration": 11,
    "start_time": "2023-01-19T23:06:12.864Z"
   },
   {
    "duration": 74,
    "start_time": "2023-01-19T23:06:14.214Z"
   },
   {
    "duration": 390,
    "start_time": "2023-01-19T23:06:53.497Z"
   },
   {
    "duration": 9,
    "start_time": "2023-01-19T23:06:53.891Z"
   },
   {
    "duration": 86,
    "start_time": "2023-01-19T23:06:54.869Z"
   },
   {
    "duration": 3,
    "start_time": "2023-01-19T23:11:52.093Z"
   },
   {
    "duration": 652,
    "start_time": "2023-01-19T23:15:46.971Z"
   },
   {
    "duration": 80,
    "start_time": "2023-01-19T23:15:54.571Z"
   },
   {
    "duration": 50,
    "start_time": "2023-01-19T23:16:46.105Z"
   },
   {
    "duration": 6,
    "start_time": "2023-01-19T23:17:43.399Z"
   },
   {
    "duration": 8,
    "start_time": "2023-01-19T23:19:02.618Z"
   },
   {
    "duration": 7,
    "start_time": "2023-01-19T23:19:02.933Z"
   },
   {
    "duration": 739,
    "start_time": "2023-01-19T23:19:17.673Z"
   },
   {
    "duration": 5,
    "start_time": "2023-01-19T23:19:26.128Z"
   },
   {
    "duration": 3027,
    "start_time": "2023-01-19T23:21:12.269Z"
   },
   {
    "duration": 59,
    "start_time": "2023-01-19T23:21:15.299Z"
   },
   {
    "duration": 9,
    "start_time": "2023-01-19T23:21:15.360Z"
   },
   {
    "duration": 0,
    "start_time": "2023-01-19T23:21:15.372Z"
   },
   {
    "duration": 0,
    "start_time": "2023-01-19T23:21:15.373Z"
   },
   {
    "duration": 0,
    "start_time": "2023-01-19T23:21:15.374Z"
   },
   {
    "duration": 0,
    "start_time": "2023-01-19T23:21:15.375Z"
   },
   {
    "duration": 0,
    "start_time": "2023-01-19T23:21:15.377Z"
   },
   {
    "duration": 0,
    "start_time": "2023-01-19T23:21:15.378Z"
   },
   {
    "duration": 0,
    "start_time": "2023-01-19T23:21:15.380Z"
   },
   {
    "duration": 0,
    "start_time": "2023-01-19T23:21:15.381Z"
   },
   {
    "duration": 1,
    "start_time": "2023-01-19T23:21:15.386Z"
   },
   {
    "duration": 0,
    "start_time": "2023-01-19T23:21:15.390Z"
   },
   {
    "duration": 0,
    "start_time": "2023-01-19T23:21:15.391Z"
   },
   {
    "duration": 0,
    "start_time": "2023-01-19T23:21:15.393Z"
   },
   {
    "duration": 0,
    "start_time": "2023-01-19T23:21:15.396Z"
   },
   {
    "duration": 0,
    "start_time": "2023-01-19T23:21:15.396Z"
   },
   {
    "duration": 0,
    "start_time": "2023-01-19T23:21:15.397Z"
   },
   {
    "duration": 0,
    "start_time": "2023-01-19T23:21:15.398Z"
   },
   {
    "duration": 0,
    "start_time": "2023-01-19T23:21:15.399Z"
   },
   {
    "duration": 0,
    "start_time": "2023-01-19T23:21:15.400Z"
   },
   {
    "duration": 0,
    "start_time": "2023-01-19T23:21:15.401Z"
   },
   {
    "duration": 0,
    "start_time": "2023-01-19T23:21:15.402Z"
   },
   {
    "duration": 0,
    "start_time": "2023-01-19T23:21:15.402Z"
   },
   {
    "duration": 0,
    "start_time": "2023-01-19T23:21:15.403Z"
   },
   {
    "duration": 0,
    "start_time": "2023-01-19T23:21:15.404Z"
   },
   {
    "duration": 0,
    "start_time": "2023-01-19T23:21:15.408Z"
   },
   {
    "duration": 0,
    "start_time": "2023-01-19T23:21:15.448Z"
   },
   {
    "duration": 0,
    "start_time": "2023-01-19T23:21:15.450Z"
   },
   {
    "duration": 0,
    "start_time": "2023-01-19T23:21:15.452Z"
   },
   {
    "duration": 0,
    "start_time": "2023-01-19T23:21:15.453Z"
   },
   {
    "duration": 0,
    "start_time": "2023-01-19T23:21:15.455Z"
   },
   {
    "duration": 0,
    "start_time": "2023-01-19T23:21:15.456Z"
   },
   {
    "duration": 7,
    "start_time": "2023-01-19T23:21:25.645Z"
   },
   {
    "duration": 32,
    "start_time": "2023-01-19T23:21:25.654Z"
   },
   {
    "duration": 2824,
    "start_time": "2023-01-19T23:21:25.688Z"
   },
   {
    "duration": 0,
    "start_time": "2023-01-19T23:21:28.514Z"
   },
   {
    "duration": 0,
    "start_time": "2023-01-19T23:21:28.516Z"
   },
   {
    "duration": 0,
    "start_time": "2023-01-19T23:21:28.517Z"
   },
   {
    "duration": 0,
    "start_time": "2023-01-19T23:21:28.518Z"
   },
   {
    "duration": 0,
    "start_time": "2023-01-19T23:21:28.520Z"
   },
   {
    "duration": 0,
    "start_time": "2023-01-19T23:21:28.521Z"
   },
   {
    "duration": 0,
    "start_time": "2023-01-19T23:21:28.523Z"
   },
   {
    "duration": 0,
    "start_time": "2023-01-19T23:21:28.524Z"
   },
   {
    "duration": 0,
    "start_time": "2023-01-19T23:21:28.525Z"
   },
   {
    "duration": 0,
    "start_time": "2023-01-19T23:21:28.526Z"
   },
   {
    "duration": 0,
    "start_time": "2023-01-19T23:21:28.527Z"
   },
   {
    "duration": 0,
    "start_time": "2023-01-19T23:21:28.549Z"
   },
   {
    "duration": 0,
    "start_time": "2023-01-19T23:21:28.551Z"
   },
   {
    "duration": 0,
    "start_time": "2023-01-19T23:21:28.552Z"
   },
   {
    "duration": 0,
    "start_time": "2023-01-19T23:21:28.554Z"
   },
   {
    "duration": 0,
    "start_time": "2023-01-19T23:21:28.555Z"
   },
   {
    "duration": 0,
    "start_time": "2023-01-19T23:21:28.558Z"
   },
   {
    "duration": 0,
    "start_time": "2023-01-19T23:21:28.560Z"
   },
   {
    "duration": 0,
    "start_time": "2023-01-19T23:21:28.561Z"
   },
   {
    "duration": 0,
    "start_time": "2023-01-19T23:21:28.563Z"
   },
   {
    "duration": 0,
    "start_time": "2023-01-19T23:21:28.564Z"
   },
   {
    "duration": 0,
    "start_time": "2023-01-19T23:21:28.565Z"
   },
   {
    "duration": 0,
    "start_time": "2023-01-19T23:21:28.567Z"
   },
   {
    "duration": 0,
    "start_time": "2023-01-19T23:21:28.568Z"
   },
   {
    "duration": 0,
    "start_time": "2023-01-19T23:21:28.570Z"
   },
   {
    "duration": 0,
    "start_time": "2023-01-19T23:21:28.571Z"
   },
   {
    "duration": 0,
    "start_time": "2023-01-19T23:21:28.573Z"
   },
   {
    "duration": 0,
    "start_time": "2023-01-19T23:21:28.574Z"
   },
   {
    "duration": 0,
    "start_time": "2023-01-19T23:21:28.576Z"
   },
   {
    "duration": 0,
    "start_time": "2023-01-19T23:21:28.577Z"
   },
   {
    "duration": 4,
    "start_time": "2023-01-19T23:21:57.635Z"
   },
   {
    "duration": 8,
    "start_time": "2023-01-19T23:25:02.617Z"
   },
   {
    "duration": 5,
    "start_time": "2023-01-19T23:25:03.334Z"
   },
   {
    "duration": 21,
    "start_time": "2023-01-19T23:25:58.188Z"
   },
   {
    "duration": 6,
    "start_time": "2023-01-19T23:26:07.017Z"
   },
   {
    "duration": 11,
    "start_time": "2023-01-19T23:26:07.025Z"
   },
   {
    "duration": 6,
    "start_time": "2023-01-19T23:26:07.038Z"
   },
   {
    "duration": 35,
    "start_time": "2023-01-19T23:26:07.046Z"
   },
   {
    "duration": 6,
    "start_time": "2023-01-19T23:26:07.083Z"
   },
   {
    "duration": 920,
    "start_time": "2023-01-19T23:26:07.091Z"
   },
   {
    "duration": 21,
    "start_time": "2023-01-19T23:26:08.013Z"
   },
   {
    "duration": 13,
    "start_time": "2023-01-19T23:26:08.036Z"
   },
   {
    "duration": 220,
    "start_time": "2023-01-19T23:26:08.052Z"
   },
   {
    "duration": 12,
    "start_time": "2023-01-19T23:26:08.274Z"
   },
   {
    "duration": 18,
    "start_time": "2023-01-19T23:26:08.289Z"
   },
   {
    "duration": 8,
    "start_time": "2023-01-19T23:26:08.308Z"
   },
   {
    "duration": 13,
    "start_time": "2023-01-19T23:26:08.317Z"
   },
   {
    "duration": 25,
    "start_time": "2023-01-19T23:26:08.331Z"
   },
   {
    "duration": 19,
    "start_time": "2023-01-19T23:26:08.358Z"
   },
   {
    "duration": 4,
    "start_time": "2023-01-19T23:26:08.379Z"
   },
   {
    "duration": 1727,
    "start_time": "2023-01-19T23:26:08.385Z"
   },
   {
    "duration": 5,
    "start_time": "2023-01-19T23:26:10.113Z"
   },
   {
    "duration": 8,
    "start_time": "2023-01-19T23:26:10.120Z"
   },
   {
    "duration": 151,
    "start_time": "2023-01-19T23:26:10.130Z"
   },
   {
    "duration": 210,
    "start_time": "2023-01-19T23:26:10.283Z"
   },
   {
    "duration": 6,
    "start_time": "2023-01-19T23:26:10.495Z"
   },
   {
    "duration": 46,
    "start_time": "2023-01-19T23:26:10.502Z"
   },
   {
    "duration": 0,
    "start_time": "2023-01-19T23:26:10.550Z"
   },
   {
    "duration": 0,
    "start_time": "2023-01-19T23:26:10.551Z"
   },
   {
    "duration": 0,
    "start_time": "2023-01-19T23:26:10.553Z"
   },
   {
    "duration": 0,
    "start_time": "2023-01-19T23:26:10.554Z"
   },
   {
    "duration": 0,
    "start_time": "2023-01-19T23:26:10.555Z"
   },
   {
    "duration": 0,
    "start_time": "2023-01-19T23:26:10.556Z"
   },
   {
    "duration": 0,
    "start_time": "2023-01-19T23:26:10.557Z"
   },
   {
    "duration": 0,
    "start_time": "2023-01-19T23:26:10.558Z"
   },
   {
    "duration": 0,
    "start_time": "2023-01-19T23:26:10.559Z"
   },
   {
    "duration": 0,
    "start_time": "2023-01-19T23:26:10.561Z"
   },
   {
    "duration": 742,
    "start_time": "2023-01-19T23:26:41.847Z"
   },
   {
    "duration": 38,
    "start_time": "2023-01-19T23:26:42.591Z"
   },
   {
    "duration": 4,
    "start_time": "2023-01-19T23:26:43.082Z"
   },
   {
    "duration": 4,
    "start_time": "2023-01-19T23:26:43.250Z"
   },
   {
    "duration": 6,
    "start_time": "2023-01-19T23:26:43.420Z"
   },
   {
    "duration": 6173,
    "start_time": "2023-01-19T23:26:43.914Z"
   },
   {
    "duration": 2,
    "start_time": "2023-01-19T23:26:50.089Z"
   },
   {
    "duration": 8,
    "start_time": "2023-01-19T23:26:50.093Z"
   },
   {
    "duration": 106,
    "start_time": "2023-01-19T23:26:50.148Z"
   },
   {
    "duration": 0,
    "start_time": "2023-01-19T23:26:50.256Z"
   },
   {
    "duration": 0,
    "start_time": "2023-01-19T23:26:50.257Z"
   },
   {
    "duration": 2976,
    "start_time": "2023-01-19T23:28:26.042Z"
   },
   {
    "duration": 3,
    "start_time": "2023-01-19T23:28:29.020Z"
   },
   {
    "duration": 52,
    "start_time": "2023-01-19T23:28:29.025Z"
   },
   {
    "duration": 19,
    "start_time": "2023-01-19T23:28:29.080Z"
   },
   {
    "duration": 5,
    "start_time": "2023-01-19T23:28:29.101Z"
   },
   {
    "duration": 1033,
    "start_time": "2023-01-19T23:28:29.107Z"
   },
   {
    "duration": 34,
    "start_time": "2023-01-19T23:28:30.142Z"
   },
   {
    "duration": 29,
    "start_time": "2023-01-19T23:28:30.178Z"
   },
   {
    "duration": 39,
    "start_time": "2023-01-19T23:28:30.208Z"
   },
   {
    "duration": 50,
    "start_time": "2023-01-19T23:28:30.249Z"
   },
   {
    "duration": 56,
    "start_time": "2023-01-19T23:28:30.301Z"
   },
   {
    "duration": 42,
    "start_time": "2023-01-19T23:28:30.359Z"
   },
   {
    "duration": 38,
    "start_time": "2023-01-19T23:28:30.405Z"
   },
   {
    "duration": 71,
    "start_time": "2023-01-19T23:28:30.445Z"
   },
   {
    "duration": 57,
    "start_time": "2023-01-19T23:28:30.518Z"
   },
   {
    "duration": 48,
    "start_time": "2023-01-19T23:28:30.577Z"
   },
   {
    "duration": 1891,
    "start_time": "2023-01-19T23:28:30.628Z"
   },
   {
    "duration": 5,
    "start_time": "2023-01-19T23:28:32.521Z"
   },
   {
    "duration": 21,
    "start_time": "2023-01-19T23:28:32.528Z"
   },
   {
    "duration": 1977,
    "start_time": "2023-01-19T23:28:32.551Z"
   },
   {
    "duration": 192,
    "start_time": "2023-01-19T23:28:34.529Z"
   },
   {
    "duration": 4,
    "start_time": "2023-01-19T23:28:34.723Z"
   },
   {
    "duration": 775,
    "start_time": "2023-01-19T23:28:34.729Z"
   },
   {
    "duration": 34,
    "start_time": "2023-01-19T23:28:35.506Z"
   },
   {
    "duration": 36,
    "start_time": "2023-01-19T23:28:35.542Z"
   },
   {
    "duration": 7,
    "start_time": "2023-01-19T23:28:35.581Z"
   },
   {
    "duration": 23,
    "start_time": "2023-01-19T23:28:35.590Z"
   },
   {
    "duration": 6256,
    "start_time": "2023-01-19T23:28:35.615Z"
   },
   {
    "duration": 4,
    "start_time": "2023-01-19T23:28:41.874Z"
   },
   {
    "duration": 528,
    "start_time": "2023-01-19T23:28:41.880Z"
   },
   {
    "duration": 0,
    "start_time": "2023-01-19T23:28:42.410Z"
   },
   {
    "duration": 0,
    "start_time": "2023-01-19T23:28:42.412Z"
   },
   {
    "duration": 0,
    "start_time": "2023-01-19T23:28:42.413Z"
   },
   {
    "duration": 3124,
    "start_time": "2023-01-23T12:21:30.715Z"
   },
   {
    "duration": 2,
    "start_time": "2023-01-23T12:21:33.841Z"
   },
   {
    "duration": 10,
    "start_time": "2023-01-23T12:21:33.844Z"
   },
   {
    "duration": 7,
    "start_time": "2023-01-23T12:21:33.856Z"
   },
   {
    "duration": 5,
    "start_time": "2023-01-23T12:21:33.865Z"
   },
   {
    "duration": 2512,
    "start_time": "2023-01-23T12:21:33.872Z"
   },
   {
    "duration": 23,
    "start_time": "2023-01-23T12:21:36.385Z"
   },
   {
    "duration": 40,
    "start_time": "2023-01-23T12:21:36.410Z"
   },
   {
    "duration": 29,
    "start_time": "2023-01-23T12:21:36.453Z"
   },
   {
    "duration": 18,
    "start_time": "2023-01-23T12:21:36.486Z"
   },
   {
    "duration": 15,
    "start_time": "2023-01-23T12:21:36.506Z"
   },
   {
    "duration": 20,
    "start_time": "2023-01-23T12:21:36.523Z"
   },
   {
    "duration": 8,
    "start_time": "2023-01-23T12:21:36.545Z"
   },
   {
    "duration": 15,
    "start_time": "2023-01-23T12:21:36.556Z"
   },
   {
    "duration": 21,
    "start_time": "2023-01-23T12:21:36.573Z"
   },
   {
    "duration": 16,
    "start_time": "2023-01-23T12:21:36.596Z"
   },
   {
    "duration": 1796,
    "start_time": "2023-01-23T12:21:36.614Z"
   },
   {
    "duration": 3,
    "start_time": "2023-01-23T12:21:38.412Z"
   },
   {
    "duration": 23,
    "start_time": "2023-01-23T12:21:38.417Z"
   },
   {
    "duration": 1915,
    "start_time": "2023-01-23T12:21:38.442Z"
   },
   {
    "duration": 358,
    "start_time": "2023-01-23T12:21:40.359Z"
   },
   {
    "duration": 5,
    "start_time": "2023-01-23T12:21:40.719Z"
   },
   {
    "duration": 639,
    "start_time": "2023-01-23T12:21:40.726Z"
   },
   {
    "duration": 19,
    "start_time": "2023-01-23T12:21:41.368Z"
   },
   {
    "duration": 11,
    "start_time": "2023-01-23T12:21:41.390Z"
   },
   {
    "duration": 10,
    "start_time": "2023-01-23T12:21:41.403Z"
   },
   {
    "duration": 11,
    "start_time": "2023-01-23T12:21:41.414Z"
   },
   {
    "duration": 25016,
    "start_time": "2023-01-23T12:21:41.436Z"
   },
   {
    "duration": 3,
    "start_time": "2023-01-23T12:22:06.454Z"
   },
   {
    "duration": 500,
    "start_time": "2023-01-23T12:22:06.458Z"
   },
   {
    "duration": 0,
    "start_time": "2023-01-23T12:22:06.961Z"
   },
   {
    "duration": 0,
    "start_time": "2023-01-23T12:22:06.962Z"
   },
   {
    "duration": 0,
    "start_time": "2023-01-23T12:22:06.964Z"
   },
   {
    "duration": 18,
    "start_time": "2023-01-23T12:24:45.752Z"
   },
   {
    "duration": 4,
    "start_time": "2023-01-23T12:32:40.302Z"
   },
   {
    "duration": 56,
    "start_time": "2023-01-23T12:33:14.195Z"
   },
   {
    "duration": 10489,
    "start_time": "2023-01-23T12:39:13.637Z"
   },
   {
    "duration": 931,
    "start_time": "2023-01-23T12:40:19.877Z"
   },
   {
    "duration": 2820,
    "start_time": "2023-01-23T12:40:49.452Z"
   },
   {
    "duration": 839,
    "start_time": "2023-01-23T12:40:52.274Z"
   },
   {
    "duration": 419,
    "start_time": "2023-01-23T12:40:53.116Z"
   },
   {
    "duration": 0,
    "start_time": "2023-01-23T12:40:53.538Z"
   },
   {
    "duration": 0,
    "start_time": "2023-01-23T12:40:53.539Z"
   },
   {
    "duration": 0,
    "start_time": "2023-01-23T12:40:53.540Z"
   },
   {
    "duration": 0,
    "start_time": "2023-01-23T12:40:53.541Z"
   },
   {
    "duration": 0,
    "start_time": "2023-01-23T12:40:53.543Z"
   },
   {
    "duration": 0,
    "start_time": "2023-01-23T12:40:53.544Z"
   },
   {
    "duration": 0,
    "start_time": "2023-01-23T12:40:53.545Z"
   },
   {
    "duration": 0,
    "start_time": "2023-01-23T12:40:53.546Z"
   },
   {
    "duration": 0,
    "start_time": "2023-01-23T12:40:53.547Z"
   },
   {
    "duration": 0,
    "start_time": "2023-01-23T12:40:53.549Z"
   },
   {
    "duration": 0,
    "start_time": "2023-01-23T12:40:53.550Z"
   },
   {
    "duration": 0,
    "start_time": "2023-01-23T12:40:53.551Z"
   },
   {
    "duration": 0,
    "start_time": "2023-01-23T12:40:53.552Z"
   },
   {
    "duration": 0,
    "start_time": "2023-01-23T12:40:53.553Z"
   },
   {
    "duration": 0,
    "start_time": "2023-01-23T12:40:53.555Z"
   },
   {
    "duration": 0,
    "start_time": "2023-01-23T12:40:53.556Z"
   },
   {
    "duration": 0,
    "start_time": "2023-01-23T12:40:53.558Z"
   },
   {
    "duration": 0,
    "start_time": "2023-01-23T12:40:53.560Z"
   },
   {
    "duration": 0,
    "start_time": "2023-01-23T12:40:53.561Z"
   },
   {
    "duration": 0,
    "start_time": "2023-01-23T12:40:53.562Z"
   },
   {
    "duration": 0,
    "start_time": "2023-01-23T12:40:53.563Z"
   },
   {
    "duration": 0,
    "start_time": "2023-01-23T12:40:53.565Z"
   },
   {
    "duration": 0,
    "start_time": "2023-01-23T12:40:53.566Z"
   },
   {
    "duration": 0,
    "start_time": "2023-01-23T12:40:53.568Z"
   },
   {
    "duration": 0,
    "start_time": "2023-01-23T12:40:53.569Z"
   },
   {
    "duration": 0,
    "start_time": "2023-01-23T12:40:53.572Z"
   },
   {
    "duration": 0,
    "start_time": "2023-01-23T12:40:53.573Z"
   },
   {
    "duration": 0,
    "start_time": "2023-01-23T12:40:53.575Z"
   },
   {
    "duration": 0,
    "start_time": "2023-01-23T12:40:53.576Z"
   },
   {
    "duration": 0,
    "start_time": "2023-01-23T12:40:53.577Z"
   },
   {
    "duration": 0,
    "start_time": "2023-01-23T12:40:53.639Z"
   },
   {
    "duration": 0,
    "start_time": "2023-01-23T12:40:53.640Z"
   },
   {
    "duration": 1,
    "start_time": "2023-01-23T12:40:53.641Z"
   },
   {
    "duration": 0,
    "start_time": "2023-01-23T12:40:53.643Z"
   },
   {
    "duration": 0,
    "start_time": "2023-01-23T12:40:53.644Z"
   },
   {
    "duration": 0,
    "start_time": "2023-01-23T12:40:53.645Z"
   },
   {
    "duration": 0,
    "start_time": "2023-01-23T12:40:53.646Z"
   },
   {
    "duration": 178,
    "start_time": "2023-01-23T12:41:01.685Z"
   },
   {
    "duration": 9198,
    "start_time": "2023-01-23T12:41:21.577Z"
   },
   {
    "duration": 1882,
    "start_time": "2023-01-23T12:41:33.726Z"
   },
   {
    "duration": 1,
    "start_time": "2023-01-23T12:41:35.610Z"
   },
   {
    "duration": 0,
    "start_time": "2023-01-23T12:41:35.612Z"
   },
   {
    "duration": 0,
    "start_time": "2023-01-23T12:41:35.613Z"
   },
   {
    "duration": 3,
    "start_time": "2023-01-23T12:42:56.262Z"
   },
   {
    "duration": 3,
    "start_time": "2023-01-23T12:42:58.274Z"
   },
   {
    "duration": 22,
    "start_time": "2023-01-23T12:42:58.596Z"
   },
   {
    "duration": 7,
    "start_time": "2023-01-23T12:43:06.032Z"
   },
   {
    "duration": 932,
    "start_time": "2023-01-23T12:43:06.052Z"
   },
   {
    "duration": 8930,
    "start_time": "2023-01-23T12:43:06.987Z"
   },
   {
    "duration": 4,
    "start_time": "2023-01-23T12:43:15.919Z"
   },
   {
    "duration": 10,
    "start_time": "2023-01-23T12:43:15.925Z"
   },
   {
    "duration": 10,
    "start_time": "2023-01-23T12:43:15.938Z"
   },
   {
    "duration": 9450,
    "start_time": "2023-01-23T12:43:15.950Z"
   },
   {
    "duration": 3,
    "start_time": "2023-01-23T12:43:25.402Z"
   },
   {
    "duration": 10,
    "start_time": "2023-01-23T12:43:25.407Z"
   },
   {
    "duration": 11,
    "start_time": "2023-01-23T12:43:25.419Z"
   },
   {
    "duration": 6,
    "start_time": "2023-01-23T12:43:25.431Z"
   },
   {
    "duration": 870,
    "start_time": "2023-01-23T12:43:25.439Z"
   },
   {
    "duration": 26,
    "start_time": "2023-01-23T12:43:26.311Z"
   },
   {
    "duration": 6,
    "start_time": "2023-01-23T12:43:26.340Z"
   },
   {
    "duration": 16,
    "start_time": "2023-01-23T12:43:26.350Z"
   },
   {
    "duration": 14,
    "start_time": "2023-01-23T12:43:26.368Z"
   },
   {
    "duration": 14,
    "start_time": "2023-01-23T12:43:26.384Z"
   },
   {
    "duration": 38,
    "start_time": "2023-01-23T12:43:26.400Z"
   },
   {
    "duration": 13,
    "start_time": "2023-01-23T12:43:26.441Z"
   },
   {
    "duration": 11,
    "start_time": "2023-01-23T12:43:26.456Z"
   },
   {
    "duration": 5,
    "start_time": "2023-01-23T12:43:26.470Z"
   },
   {
    "duration": 8,
    "start_time": "2023-01-23T12:43:26.477Z"
   },
   {
    "duration": 2015,
    "start_time": "2023-01-23T12:43:26.488Z"
   },
   {
    "duration": 6,
    "start_time": "2023-01-23T12:43:28.506Z"
   },
   {
    "duration": 39,
    "start_time": "2023-01-23T12:43:28.515Z"
   },
   {
    "duration": 128,
    "start_time": "2023-01-23T12:43:28.556Z"
   },
   {
    "duration": 194,
    "start_time": "2023-01-23T12:43:28.687Z"
   },
   {
    "duration": 4,
    "start_time": "2023-01-23T12:43:28.883Z"
   },
   {
    "duration": 596,
    "start_time": "2023-01-23T12:43:28.889Z"
   },
   {
    "duration": 22,
    "start_time": "2023-01-23T12:43:29.487Z"
   },
   {
    "duration": 7,
    "start_time": "2023-01-23T12:43:29.511Z"
   },
   {
    "duration": 19,
    "start_time": "2023-01-23T12:43:29.520Z"
   },
   {
    "duration": 11,
    "start_time": "2023-01-23T12:43:29.541Z"
   },
   {
    "duration": 6289,
    "start_time": "2023-01-23T12:43:29.554Z"
   },
   {
    "duration": 3,
    "start_time": "2023-01-23T12:43:35.845Z"
   },
   {
    "duration": 8,
    "start_time": "2023-01-23T12:43:35.849Z"
   },
   {
    "duration": 6,
    "start_time": "2023-01-23T12:43:35.859Z"
   },
   {
    "duration": 80,
    "start_time": "2023-01-23T12:43:35.867Z"
   },
   {
    "duration": 0,
    "start_time": "2023-01-23T12:43:35.948Z"
   },
   {
    "duration": 0,
    "start_time": "2023-01-23T12:43:35.950Z"
   },
   {
    "duration": 2855,
    "start_time": "2023-01-23T12:52:43.466Z"
   },
   {
    "duration": 864,
    "start_time": "2023-01-23T12:52:46.323Z"
   },
   {
    "duration": 9345,
    "start_time": "2023-01-23T12:52:47.190Z"
   },
   {
    "duration": 1724,
    "start_time": "2023-01-23T12:52:56.538Z"
   },
   {
    "duration": 4,
    "start_time": "2023-01-23T12:52:58.264Z"
   },
   {
    "duration": 15,
    "start_time": "2023-01-23T12:52:58.269Z"
   },
   {
    "duration": 9282,
    "start_time": "2023-01-23T12:52:58.286Z"
   },
   {
    "duration": 3,
    "start_time": "2023-01-23T12:53:07.571Z"
   },
   {
    "duration": 17,
    "start_time": "2023-01-23T12:53:07.575Z"
   },
   {
    "duration": 33,
    "start_time": "2023-01-23T12:53:07.595Z"
   },
   {
    "duration": 45,
    "start_time": "2023-01-23T12:53:07.630Z"
   },
   {
    "duration": 940,
    "start_time": "2023-01-23T12:53:07.677Z"
   },
   {
    "duration": 24,
    "start_time": "2023-01-23T12:53:08.619Z"
   },
   {
    "duration": 29,
    "start_time": "2023-01-23T12:53:08.645Z"
   },
   {
    "duration": 37,
    "start_time": "2023-01-23T12:53:08.676Z"
   },
   {
    "duration": 18,
    "start_time": "2023-01-23T12:53:08.715Z"
   },
   {
    "duration": 15,
    "start_time": "2023-01-23T12:53:08.735Z"
   },
   {
    "duration": 15,
    "start_time": "2023-01-23T12:53:08.751Z"
   },
   {
    "duration": 15,
    "start_time": "2023-01-23T12:53:08.768Z"
   },
   {
    "duration": 16,
    "start_time": "2023-01-23T12:53:08.784Z"
   },
   {
    "duration": 6,
    "start_time": "2023-01-23T12:53:08.802Z"
   },
   {
    "duration": 43,
    "start_time": "2023-01-23T12:53:08.810Z"
   },
   {
    "duration": 1993,
    "start_time": "2023-01-23T12:53:08.855Z"
   },
   {
    "duration": 4,
    "start_time": "2023-01-23T12:53:10.850Z"
   },
   {
    "duration": 35,
    "start_time": "2023-01-23T12:53:10.856Z"
   },
   {
    "duration": 112,
    "start_time": "2023-01-23T12:53:10.893Z"
   },
   {
    "duration": 197,
    "start_time": "2023-01-23T12:53:11.007Z"
   },
   {
    "duration": 5,
    "start_time": "2023-01-23T12:53:11.208Z"
   },
   {
    "duration": 690,
    "start_time": "2023-01-23T12:53:11.215Z"
   },
   {
    "duration": 21,
    "start_time": "2023-01-23T12:53:11.907Z"
   },
   {
    "duration": 55,
    "start_time": "2023-01-23T12:53:11.929Z"
   },
   {
    "duration": 57,
    "start_time": "2023-01-23T12:53:11.985Z"
   },
   {
    "duration": 28,
    "start_time": "2023-01-23T12:53:12.044Z"
   },
   {
    "duration": 6370,
    "start_time": "2023-01-23T12:53:12.074Z"
   },
   {
    "duration": 2,
    "start_time": "2023-01-23T12:53:18.446Z"
   },
   {
    "duration": 17,
    "start_time": "2023-01-23T12:53:18.450Z"
   },
   {
    "duration": 20,
    "start_time": "2023-01-23T12:53:18.469Z"
   },
   {
    "duration": 411,
    "start_time": "2023-01-23T12:53:18.491Z"
   },
   {
    "duration": 0,
    "start_time": "2023-01-23T12:53:18.904Z"
   },
   {
    "duration": 0,
    "start_time": "2023-01-23T12:53:18.905Z"
   },
   {
    "duration": 3127,
    "start_time": "2023-01-23T13:03:08.449Z"
   },
   {
    "duration": 828,
    "start_time": "2023-01-23T13:03:11.579Z"
   },
   {
    "duration": 8996,
    "start_time": "2023-01-23T13:03:12.409Z"
   },
   {
    "duration": 1633,
    "start_time": "2023-01-23T13:03:21.407Z"
   },
   {
    "duration": 4,
    "start_time": "2023-01-23T13:03:23.042Z"
   },
   {
    "duration": 10,
    "start_time": "2023-01-23T13:03:23.048Z"
   },
   {
    "duration": 9251,
    "start_time": "2023-01-23T13:03:23.060Z"
   },
   {
    "duration": 3,
    "start_time": "2023-01-23T13:03:32.313Z"
   },
   {
    "duration": 33,
    "start_time": "2023-01-23T13:03:32.318Z"
   },
   {
    "duration": 13,
    "start_time": "2023-01-23T13:03:32.353Z"
   },
   {
    "duration": 9,
    "start_time": "2023-01-23T13:03:32.368Z"
   },
   {
    "duration": 1015,
    "start_time": "2023-01-23T13:03:32.379Z"
   },
   {
    "duration": 22,
    "start_time": "2023-01-23T13:03:33.396Z"
   },
   {
    "duration": 37,
    "start_time": "2023-01-23T13:03:33.420Z"
   },
   {
    "duration": 42,
    "start_time": "2023-01-23T13:03:33.459Z"
   },
   {
    "duration": 15,
    "start_time": "2023-01-23T13:03:33.502Z"
   },
   {
    "duration": 29,
    "start_time": "2023-01-23T13:03:33.519Z"
   },
   {
    "duration": 7,
    "start_time": "2023-01-23T13:03:33.552Z"
   },
   {
    "duration": 10,
    "start_time": "2023-01-23T13:03:33.561Z"
   },
   {
    "duration": 11,
    "start_time": "2023-01-23T13:03:33.572Z"
   },
   {
    "duration": 7,
    "start_time": "2023-01-23T13:03:33.584Z"
   },
   {
    "duration": 9,
    "start_time": "2023-01-23T13:03:33.592Z"
   },
   {
    "duration": 2005,
    "start_time": "2023-01-23T13:03:33.603Z"
   },
   {
    "duration": 5,
    "start_time": "2023-01-23T13:03:35.610Z"
   },
   {
    "duration": 34,
    "start_time": "2023-01-23T13:03:35.618Z"
   },
   {
    "duration": 78,
    "start_time": "2023-01-23T13:03:35.654Z"
   },
   {
    "duration": 185,
    "start_time": "2023-01-23T13:03:35.742Z"
   },
   {
    "duration": 4,
    "start_time": "2023-01-23T13:03:35.929Z"
   },
   {
    "duration": 666,
    "start_time": "2023-01-23T13:03:35.935Z"
   },
   {
    "duration": 18,
    "start_time": "2023-01-23T13:03:36.603Z"
   },
   {
    "duration": 35,
    "start_time": "2023-01-23T13:03:36.623Z"
   },
   {
    "duration": 13,
    "start_time": "2023-01-23T13:03:36.661Z"
   },
   {
    "duration": 20,
    "start_time": "2023-01-23T13:03:36.675Z"
   },
   {
    "duration": 6163,
    "start_time": "2023-01-23T13:03:36.697Z"
   },
   {
    "duration": 3,
    "start_time": "2023-01-23T13:03:42.862Z"
   },
   {
    "duration": 29,
    "start_time": "2023-01-23T13:03:42.868Z"
   },
   {
    "duration": 12,
    "start_time": "2023-01-23T13:03:42.899Z"
   },
   {
    "duration": 44,
    "start_time": "2023-01-23T13:03:42.912Z"
   },
   {
    "duration": 0,
    "start_time": "2023-01-23T13:03:42.958Z"
   },
   {
    "duration": 0,
    "start_time": "2023-01-23T13:03:42.959Z"
   },
   {
    "duration": 0,
    "start_time": "2023-01-23T13:03:42.960Z"
   },
   {
    "duration": 419,
    "start_time": "2023-01-23T13:08:56.352Z"
   },
   {
    "duration": 32,
    "start_time": "2023-01-23T13:09:10.390Z"
   },
   {
    "duration": 2716,
    "start_time": "2023-01-23T20:46:33.512Z"
   },
   {
    "duration": 984,
    "start_time": "2023-01-23T20:46:36.230Z"
   },
   {
    "duration": 9222,
    "start_time": "2023-01-23T20:46:37.216Z"
   },
   {
    "duration": 1416,
    "start_time": "2023-01-23T20:46:46.440Z"
   },
   {
    "duration": 2,
    "start_time": "2023-01-23T20:46:47.858Z"
   },
   {
    "duration": 9,
    "start_time": "2023-01-23T20:46:47.862Z"
   },
   {
    "duration": 8351,
    "start_time": "2023-01-23T20:46:47.872Z"
   },
   {
    "duration": 2,
    "start_time": "2023-01-23T20:46:56.225Z"
   },
   {
    "duration": 8,
    "start_time": "2023-01-23T20:46:56.229Z"
   },
   {
    "duration": 9,
    "start_time": "2023-01-23T20:46:56.239Z"
   },
   {
    "duration": 4,
    "start_time": "2023-01-23T20:46:56.250Z"
   },
   {
    "duration": 2267,
    "start_time": "2023-01-23T20:46:56.256Z"
   },
   {
    "duration": 18,
    "start_time": "2023-01-23T20:46:58.525Z"
   },
   {
    "duration": 4,
    "start_time": "2023-01-23T20:46:58.545Z"
   },
   {
    "duration": 176,
    "start_time": "2023-01-23T20:46:58.552Z"
   },
   {
    "duration": 20,
    "start_time": "2023-01-23T20:46:58.729Z"
   },
   {
    "duration": 10,
    "start_time": "2023-01-23T20:46:58.751Z"
   },
   {
    "duration": 5,
    "start_time": "2023-01-23T20:46:58.763Z"
   },
   {
    "duration": 7,
    "start_time": "2023-01-23T20:46:58.769Z"
   },
   {
    "duration": 12,
    "start_time": "2023-01-23T20:46:58.777Z"
   },
   {
    "duration": 8,
    "start_time": "2023-01-23T20:46:58.791Z"
   },
   {
    "duration": 5,
    "start_time": "2023-01-23T20:46:58.800Z"
   },
   {
    "duration": 1559,
    "start_time": "2023-01-23T20:46:58.807Z"
   },
   {
    "duration": 3,
    "start_time": "2023-01-23T20:47:00.368Z"
   },
   {
    "duration": 33,
    "start_time": "2023-01-23T20:47:00.373Z"
   },
   {
    "duration": 143,
    "start_time": "2023-01-23T20:47:00.408Z"
   },
   {
    "duration": 311,
    "start_time": "2023-01-23T20:47:00.553Z"
   },
   {
    "duration": 4,
    "start_time": "2023-01-23T20:47:00.867Z"
   },
   {
    "duration": 571,
    "start_time": "2023-01-23T20:47:00.873Z"
   },
   {
    "duration": 19,
    "start_time": "2023-01-23T20:47:01.445Z"
   },
   {
    "duration": 18,
    "start_time": "2023-01-23T20:47:01.465Z"
   },
   {
    "duration": 8,
    "start_time": "2023-01-23T20:47:01.485Z"
   },
   {
    "duration": 26,
    "start_time": "2023-01-23T20:47:01.494Z"
   },
   {
    "duration": 12553,
    "start_time": "2023-01-23T20:47:01.522Z"
   },
   {
    "duration": 67,
    "start_time": "2023-01-23T20:47:14.077Z"
   },
   {
    "duration": 23,
    "start_time": "2023-01-23T20:47:14.146Z"
   },
   {
    "duration": 8,
    "start_time": "2023-01-23T20:47:14.171Z"
   },
   {
    "duration": 390,
    "start_time": "2023-01-23T20:47:14.181Z"
   },
   {
    "duration": 0,
    "start_time": "2023-01-23T20:47:14.572Z"
   },
   {
    "duration": 0,
    "start_time": "2023-01-23T20:47:14.574Z"
   },
   {
    "duration": 6593,
    "start_time": "2023-01-24T09:40:05.503Z"
   },
   {
    "duration": 3901,
    "start_time": "2023-01-24T09:40:12.098Z"
   },
   {
    "duration": 5713,
    "start_time": "2023-01-24T09:40:29.429Z"
   },
   {
    "duration": 1490,
    "start_time": "2023-01-24T09:40:35.144Z"
   },
   {
    "duration": 8,
    "start_time": "2023-01-24T09:40:57.210Z"
   },
   {
    "duration": 26622,
    "start_time": "2023-01-24T09:41:10.841Z"
   },
   {
    "duration": 373,
    "start_time": "2023-01-24T09:41:37.465Z"
   },
   {
    "duration": 18,
    "start_time": "2023-01-24T09:46:27.412Z"
   },
   {
    "duration": 19,
    "start_time": "2023-01-24T09:46:46.926Z"
   },
   {
    "duration": 467,
    "start_time": "2023-01-24T09:47:24.377Z"
   },
   {
    "duration": 45,
    "start_time": "2023-01-24T09:47:27.860Z"
   },
   {
    "duration": 803,
    "start_time": "2023-01-24T10:16:00.276Z"
   },
   {
    "duration": 5371,
    "start_time": "2023-01-24T10:19:51.588Z"
   },
   {
    "duration": 5,
    "start_time": "2023-01-24T10:19:56.961Z"
   },
   {
    "duration": 553,
    "start_time": "2023-01-24T10:19:57.615Z"
   },
   {
    "duration": 2300,
    "start_time": "2023-01-24T10:19:58.411Z"
   },
   {
    "duration": 47,
    "start_time": "2023-01-24T10:20:33.598Z"
   },
   {
    "duration": 5301,
    "start_time": "2023-01-24T10:20:43.277Z"
   },
   {
    "duration": 7393,
    "start_time": "2023-01-24T10:20:48.580Z"
   },
   {
    "duration": 7,
    "start_time": "2023-01-24T10:20:55.975Z"
   },
   {
    "duration": 274,
    "start_time": "2023-01-24T10:20:55.992Z"
   },
   {
    "duration": 26826,
    "start_time": "2023-01-24T10:20:56.267Z"
   },
   {
    "duration": 3,
    "start_time": "2023-01-24T14:00:25.649Z"
   },
   {
    "duration": 2,
    "start_time": "2023-01-24T14:04:27.199Z"
   },
   {
    "duration": 2859,
    "start_time": "2023-01-24T14:05:03.589Z"
   },
   {
    "duration": 3,
    "start_time": "2023-01-24T14:05:06.450Z"
   },
   {
    "duration": 879,
    "start_time": "2023-01-24T14:05:06.454Z"
   },
   {
    "duration": 7975,
    "start_time": "2023-01-24T14:05:07.335Z"
   },
   {
    "duration": 3,
    "start_time": "2023-01-24T14:05:15.313Z"
   },
   {
    "duration": 15,
    "start_time": "2023-01-24T14:05:15.318Z"
   },
   {
    "duration": 10,
    "start_time": "2023-01-24T14:05:15.335Z"
   },
   {
    "duration": 8113,
    "start_time": "2023-01-24T14:05:15.346Z"
   },
   {
    "duration": 3,
    "start_time": "2023-01-24T14:05:23.461Z"
   },
   {
    "duration": 14,
    "start_time": "2023-01-24T14:05:23.466Z"
   },
   {
    "duration": 16,
    "start_time": "2023-01-24T14:05:23.481Z"
   },
   {
    "duration": 7,
    "start_time": "2023-01-24T14:05:23.498Z"
   },
   {
    "duration": 2297,
    "start_time": "2023-01-24T14:05:23.506Z"
   },
   {
    "duration": 16,
    "start_time": "2023-01-24T14:05:25.805Z"
   },
   {
    "duration": 10,
    "start_time": "2023-01-24T14:05:25.822Z"
   },
   {
    "duration": 14,
    "start_time": "2023-01-24T14:05:25.833Z"
   },
   {
    "duration": 10,
    "start_time": "2023-01-24T14:05:25.849Z"
   },
   {
    "duration": 14,
    "start_time": "2023-01-24T14:05:25.860Z"
   },
   {
    "duration": 4,
    "start_time": "2023-01-24T14:05:25.876Z"
   },
   {
    "duration": 9,
    "start_time": "2023-01-24T14:05:25.882Z"
   },
   {
    "duration": 11,
    "start_time": "2023-01-24T14:05:25.893Z"
   },
   {
    "duration": 10,
    "start_time": "2023-01-24T14:05:25.906Z"
   },
   {
    "duration": 11,
    "start_time": "2023-01-24T14:05:25.918Z"
   },
   {
    "duration": 1402,
    "start_time": "2023-01-24T14:05:25.931Z"
   },
   {
    "duration": 3,
    "start_time": "2023-01-24T14:05:27.348Z"
   },
   {
    "duration": 7,
    "start_time": "2023-01-24T14:05:27.352Z"
   },
   {
    "duration": 165,
    "start_time": "2023-01-24T14:05:27.362Z"
   },
   {
    "duration": 0,
    "start_time": "2023-01-24T14:05:27.529Z"
   },
   {
    "duration": 0,
    "start_time": "2023-01-24T14:05:27.530Z"
   },
   {
    "duration": 0,
    "start_time": "2023-01-24T14:05:27.531Z"
   },
   {
    "duration": 0,
    "start_time": "2023-01-24T14:05:27.532Z"
   },
   {
    "duration": 0,
    "start_time": "2023-01-24T14:05:27.534Z"
   },
   {
    "duration": 0,
    "start_time": "2023-01-24T14:05:27.548Z"
   },
   {
    "duration": 0,
    "start_time": "2023-01-24T14:05:27.549Z"
   },
   {
    "duration": 0,
    "start_time": "2023-01-24T14:05:27.550Z"
   },
   {
    "duration": 0,
    "start_time": "2023-01-24T14:05:27.551Z"
   },
   {
    "duration": 0,
    "start_time": "2023-01-24T14:05:27.552Z"
   },
   {
    "duration": 0,
    "start_time": "2023-01-24T14:05:27.553Z"
   },
   {
    "duration": 0,
    "start_time": "2023-01-24T14:05:27.554Z"
   },
   {
    "duration": 0,
    "start_time": "2023-01-24T14:05:27.555Z"
   },
   {
    "duration": 6,
    "start_time": "2023-01-24T14:06:51.991Z"
   },
   {
    "duration": 6090,
    "start_time": "2023-01-24T14:07:00.197Z"
   },
   {
    "duration": 5,
    "start_time": "2023-01-24T14:07:06.289Z"
   },
   {
    "duration": 17890,
    "start_time": "2023-01-24T14:07:06.295Z"
   },
   {
    "duration": 2020,
    "start_time": "2023-01-24T14:19:21.430Z"
   },
   {
    "duration": 6400,
    "start_time": "2023-01-24T14:19:23.452Z"
   },
   {
    "duration": 2,
    "start_time": "2023-01-24T14:19:29.855Z"
   },
   {
    "duration": 6,
    "start_time": "2023-01-24T14:19:29.860Z"
   },
   {
    "duration": 2895,
    "start_time": "2023-01-24T14:19:29.868Z"
   },
   {
    "duration": 2,
    "start_time": "2023-01-24T14:19:32.765Z"
   },
   {
    "duration": 2248,
    "start_time": "2023-01-24T14:19:32.769Z"
   },
   {
    "duration": 3,
    "start_time": "2023-01-24T14:19:35.018Z"
   },
   {
    "duration": 17,
    "start_time": "2023-01-24T14:19:35.022Z"
   },
   {
    "duration": 32,
    "start_time": "2023-01-24T14:19:35.041Z"
   },
   {
    "duration": 11,
    "start_time": "2023-01-24T14:19:35.074Z"
   },
   {
    "duration": 23,
    "start_time": "2023-01-24T14:19:35.086Z"
   },
   {
    "duration": 237,
    "start_time": "2023-01-24T14:19:35.111Z"
   },
   {
    "duration": 1849,
    "start_time": "2023-01-24T14:19:35.350Z"
   },
   {
    "duration": 5,
    "start_time": "2023-01-24T14:19:37.201Z"
   },
   {
    "duration": 6,
    "start_time": "2023-01-24T14:19:37.208Z"
   },
   {
    "duration": 2017,
    "start_time": "2023-01-24T14:20:30.030Z"
   },
   {
    "duration": 2056,
    "start_time": "2023-01-24T14:20:32.049Z"
   },
   {
    "duration": 3,
    "start_time": "2023-01-24T14:20:34.108Z"
   },
   {
    "duration": 6,
    "start_time": "2023-01-24T14:20:34.114Z"
   },
   {
    "duration": 2846,
    "start_time": "2023-01-24T14:20:34.121Z"
   },
   {
    "duration": 3,
    "start_time": "2023-01-24T14:20:36.968Z"
   },
   {
    "duration": 741,
    "start_time": "2023-01-24T14:20:36.972Z"
   },
   {
    "duration": 16,
    "start_time": "2023-01-24T14:20:37.715Z"
   },
   {
    "duration": 19,
    "start_time": "2023-01-24T14:20:37.733Z"
   },
   {
    "duration": 11,
    "start_time": "2023-01-24T14:20:37.753Z"
   },
   {
    "duration": 10,
    "start_time": "2023-01-24T14:20:37.766Z"
   },
   {
    "duration": 6,
    "start_time": "2023-01-24T14:20:37.777Z"
   },
   {
    "duration": 9,
    "start_time": "2023-01-24T14:20:37.784Z"
   },
   {
    "duration": 9,
    "start_time": "2023-01-24T14:20:37.794Z"
   },
   {
    "duration": 3,
    "start_time": "2023-01-24T14:21:03.137Z"
   },
   {
    "duration": 3,
    "start_time": "2023-01-24T14:21:03.386Z"
   },
   {
    "duration": 1453,
    "start_time": "2023-01-24T14:21:04.478Z"
   },
   {
    "duration": 3,
    "start_time": "2023-01-24T14:21:07.049Z"
   },
   {
    "duration": 3,
    "start_time": "2023-01-24T14:21:09.183Z"
   },
   {
    "duration": 6409,
    "start_time": "2023-01-24T14:21:09.711Z"
   },
   {
    "duration": 5,
    "start_time": "2023-01-24T14:21:16.122Z"
   },
   {
    "duration": 18819,
    "start_time": "2023-01-24T14:21:16.129Z"
   },
   {
    "duration": 2036,
    "start_time": "2023-01-24T14:21:52.622Z"
   },
   {
    "duration": 2040,
    "start_time": "2023-01-24T14:21:54.660Z"
   },
   {
    "duration": 2,
    "start_time": "2023-01-24T14:21:56.702Z"
   },
   {
    "duration": 7,
    "start_time": "2023-01-24T14:21:56.706Z"
   },
   {
    "duration": 2820,
    "start_time": "2023-01-24T14:21:56.715Z"
   },
   {
    "duration": 3,
    "start_time": "2023-01-24T14:21:59.537Z"
   },
   {
    "duration": 2330,
    "start_time": "2023-01-24T14:21:59.541Z"
   },
   {
    "duration": 26,
    "start_time": "2023-01-24T14:22:01.873Z"
   },
   {
    "duration": 19,
    "start_time": "2023-01-24T14:22:01.901Z"
   },
   {
    "duration": 13,
    "start_time": "2023-01-24T14:22:01.922Z"
   },
   {
    "duration": 37,
    "start_time": "2023-01-24T14:22:01.937Z"
   },
   {
    "duration": 6,
    "start_time": "2023-01-24T14:22:01.975Z"
   },
   {
    "duration": 11,
    "start_time": "2023-01-24T14:22:01.983Z"
   },
   {
    "duration": 9,
    "start_time": "2023-01-24T14:22:11.280Z"
   },
   {
    "duration": 4,
    "start_time": "2023-01-24T14:22:35.783Z"
   },
   {
    "duration": 9,
    "start_time": "2023-01-24T14:22:39.426Z"
   },
   {
    "duration": 44,
    "start_time": "2023-01-24T14:36:45.008Z"
   },
   {
    "duration": 7,
    "start_time": "2023-01-24T14:37:46.724Z"
   },
   {
    "duration": 5121,
    "start_time": "2023-01-24T14:37:50.436Z"
   },
   {
    "duration": 440,
    "start_time": "2023-01-24T14:38:00.269Z"
   },
   {
    "duration": 76,
    "start_time": "2023-01-24T14:39:02.813Z"
   },
   {
    "duration": 556,
    "start_time": "2023-01-24T14:39:09.817Z"
   },
   {
    "duration": 3,
    "start_time": "2023-01-24T14:39:36.898Z"
   },
   {
    "duration": 384,
    "start_time": "2023-01-24T14:40:37.337Z"
   },
   {
    "duration": 756,
    "start_time": "2023-01-24T14:40:44.825Z"
   },
   {
    "duration": 25,
    "start_time": "2023-01-24T14:40:45.583Z"
   },
   {
    "duration": 27,
    "start_time": "2023-01-24T14:40:45.610Z"
   },
   {
    "duration": 27,
    "start_time": "2023-01-24T14:40:45.639Z"
   },
   {
    "duration": 9,
    "start_time": "2023-01-24T14:40:45.743Z"
   },
   {
    "duration": 16,
    "start_time": "2023-01-24T14:40:45.773Z"
   },
   {
    "duration": 5,
    "start_time": "2023-01-24T14:40:45.970Z"
   },
   {
    "duration": 3,
    "start_time": "2023-01-24T14:40:46.080Z"
   },
   {
    "duration": 468,
    "start_time": "2023-01-24T14:40:50.201Z"
   },
   {
    "duration": 3,
    "start_time": "2023-01-24T14:40:50.796Z"
   },
   {
    "duration": 3242,
    "start_time": "2023-01-24T14:40:51.958Z"
   },
   {
    "duration": 2386,
    "start_time": "2023-01-24T14:41:09.080Z"
   },
   {
    "duration": 2416,
    "start_time": "2023-01-24T14:43:05.449Z"
   },
   {
    "duration": 81,
    "start_time": "2023-01-24T14:43:09.585Z"
   },
   {
    "duration": 24,
    "start_time": "2023-01-24T14:43:45.130Z"
   },
   {
    "duration": 14,
    "start_time": "2023-01-24T14:45:30.435Z"
   },
   {
    "duration": 11,
    "start_time": "2023-01-24T14:51:10.044Z"
   },
   {
    "duration": 2,
    "start_time": "2023-01-24T14:52:09.170Z"
   },
   {
    "duration": 5,
    "start_time": "2023-01-24T14:52:11.936Z"
   },
   {
    "duration": 2,
    "start_time": "2023-01-24T14:52:20.217Z"
   },
   {
    "duration": 16,
    "start_time": "2023-01-24T14:54:10.074Z"
   },
   {
    "duration": 2,
    "start_time": "2023-01-24T14:54:27.862Z"
   },
   {
    "duration": 16,
    "start_time": "2023-01-24T14:54:32.993Z"
   },
   {
    "duration": 5,
    "start_time": "2023-01-24T14:54:39.312Z"
   },
   {
    "duration": 2,
    "start_time": "2023-01-24T14:55:56.141Z"
   },
   {
    "duration": 5,
    "start_time": "2023-01-24T14:55:56.513Z"
   },
   {
    "duration": 17,
    "start_time": "2023-01-24T14:57:12.535Z"
   },
   {
    "duration": 15,
    "start_time": "2023-01-24T14:58:08.950Z"
   },
   {
    "duration": 17,
    "start_time": "2023-01-24T14:58:16.469Z"
   },
   {
    "duration": 7,
    "start_time": "2023-01-24T14:58:32.151Z"
   },
   {
    "duration": 6,
    "start_time": "2023-01-24T14:59:16.290Z"
   },
   {
    "duration": 5,
    "start_time": "2023-01-24T14:59:30.649Z"
   },
   {
    "duration": 6,
    "start_time": "2023-01-24T14:59:39.432Z"
   },
   {
    "duration": 8,
    "start_time": "2023-01-24T15:00:39.656Z"
   },
   {
    "duration": 2,
    "start_time": "2023-01-24T15:03:23.635Z"
   },
   {
    "duration": 21,
    "start_time": "2023-01-24T15:03:23.944Z"
   },
   {
    "duration": 20,
    "start_time": "2023-01-24T15:03:59.209Z"
   },
   {
    "duration": 729,
    "start_time": "2023-01-24T15:10:21.977Z"
   },
   {
    "duration": 4272,
    "start_time": "2023-01-24T15:10:22.770Z"
   },
   {
    "duration": 7,
    "start_time": "2023-01-24T15:10:27.044Z"
   },
   {
    "duration": 17765,
    "start_time": "2023-01-24T15:10:27.053Z"
   },
   {
    "duration": 2117,
    "start_time": "2023-01-24T15:11:25.662Z"
   },
   {
    "duration": 1992,
    "start_time": "2023-01-24T15:11:27.781Z"
   },
   {
    "duration": 3,
    "start_time": "2023-01-24T15:11:29.775Z"
   },
   {
    "duration": 8,
    "start_time": "2023-01-24T15:11:29.780Z"
   },
   {
    "duration": 5163,
    "start_time": "2023-01-24T15:11:29.790Z"
   },
   {
    "duration": 2,
    "start_time": "2023-01-24T15:11:34.955Z"
   },
   {
    "duration": 2272,
    "start_time": "2023-01-24T15:11:34.959Z"
   },
   {
    "duration": 16,
    "start_time": "2023-01-24T15:11:37.233Z"
   },
   {
    "duration": 17,
    "start_time": "2023-01-24T15:11:37.251Z"
   },
   {
    "duration": 10,
    "start_time": "2023-01-24T15:11:37.270Z"
   },
   {
    "duration": 14,
    "start_time": "2023-01-24T15:11:37.281Z"
   },
   {
    "duration": 6,
    "start_time": "2023-01-24T15:11:37.297Z"
   },
   {
    "duration": 7,
    "start_time": "2023-01-24T15:11:37.304Z"
   },
   {
    "duration": 5,
    "start_time": "2023-01-24T15:11:37.312Z"
   },
   {
    "duration": 437,
    "start_time": "2023-01-24T15:11:37.318Z"
   },
   {
    "duration": 3,
    "start_time": "2023-01-24T15:11:37.757Z"
   },
   {
    "duration": 3412,
    "start_time": "2023-01-24T15:11:37.761Z"
   },
   {
    "duration": 18,
    "start_time": "2023-01-24T15:11:41.175Z"
   },
   {
    "duration": 4,
    "start_time": "2023-01-24T15:11:41.195Z"
   },
   {
    "duration": 14,
    "start_time": "2023-01-24T15:11:41.201Z"
   },
   {
    "duration": 32,
    "start_time": "2023-01-24T15:11:41.217Z"
   },
   {
    "duration": 20,
    "start_time": "2023-01-24T15:11:41.250Z"
   },
   {
    "duration": 22,
    "start_time": "2023-01-24T15:11:41.272Z"
   },
   {
    "duration": 759,
    "start_time": "2023-01-24T15:11:41.295Z"
   },
   {
    "duration": 4073,
    "start_time": "2023-01-24T15:11:42.056Z"
   },
   {
    "duration": 4,
    "start_time": "2023-01-24T15:11:46.131Z"
   },
   {
    "duration": 18336,
    "start_time": "2023-01-24T15:11:46.137Z"
   },
   {
    "duration": 57103,
    "start_time": "2023-01-24T15:12:04.475Z"
   },
   {
    "duration": 69,
    "start_time": "2023-01-24T15:13:01.580Z"
   },
   {
    "duration": 353,
    "start_time": "2023-01-24T15:13:46.099Z"
   },
   {
    "duration": 3,
    "start_time": "2023-01-24T15:13:56.426Z"
   },
   {
    "duration": 5,
    "start_time": "2023-01-24T15:13:56.724Z"
   },
   {
    "duration": 15,
    "start_time": "2023-01-24T15:14:35.212Z"
   },
   {
    "duration": 734,
    "start_time": "2023-01-24T15:14:41.827Z"
   },
   {
    "duration": 3,
    "start_time": "2023-01-24T15:14:42.563Z"
   },
   {
    "duration": 10,
    "start_time": "2023-01-24T15:14:42.902Z"
   },
   {
    "duration": 731,
    "start_time": "2023-01-24T15:15:04.051Z"
   },
   {
    "duration": 10,
    "start_time": "2023-01-24T15:15:04.784Z"
   },
   {
    "duration": 5,
    "start_time": "2023-01-24T15:15:04.796Z"
   },
   {
    "duration": 12,
    "start_time": "2023-01-24T15:15:05.133Z"
   },
   {
    "duration": 7,
    "start_time": "2023-01-24T15:15:13.449Z"
   },
   {
    "duration": 9,
    "start_time": "2023-01-24T15:15:19.609Z"
   },
   {
    "duration": 705,
    "start_time": "2023-01-24T15:15:25.514Z"
   },
   {
    "duration": 6,
    "start_time": "2023-01-24T15:15:26.221Z"
   },
   {
    "duration": 7,
    "start_time": "2023-01-24T15:15:26.229Z"
   },
   {
    "duration": 15,
    "start_time": "2023-01-24T15:15:26.238Z"
   },
   {
    "duration": 679,
    "start_time": "2023-01-24T15:16:27.949Z"
   },
   {
    "duration": 754,
    "start_time": "2023-01-24T15:16:37.051Z"
   },
   {
    "duration": 750,
    "start_time": "2023-01-24T15:17:00.710Z"
   },
   {
    "duration": 7,
    "start_time": "2023-01-24T15:17:04.234Z"
   },
   {
    "duration": 2,
    "start_time": "2023-01-24T15:17:07.544Z"
   },
   {
    "duration": 9,
    "start_time": "2023-01-24T15:17:08.597Z"
   },
   {
    "duration": 16,
    "start_time": "2023-01-24T15:18:34.513Z"
   },
   {
    "duration": 2107,
    "start_time": "2023-01-24T15:18:52.210Z"
   },
   {
    "duration": 2102,
    "start_time": "2023-01-24T15:18:54.319Z"
   },
   {
    "duration": 4,
    "start_time": "2023-01-24T15:18:56.422Z"
   },
   {
    "duration": 6,
    "start_time": "2023-01-24T15:18:56.428Z"
   },
   {
    "duration": 4706,
    "start_time": "2023-01-24T15:18:56.435Z"
   },
   {
    "duration": 2,
    "start_time": "2023-01-24T15:19:01.143Z"
   },
   {
    "duration": 762,
    "start_time": "2023-01-24T15:19:01.147Z"
   },
   {
    "duration": 18,
    "start_time": "2023-01-24T15:19:01.911Z"
   },
   {
    "duration": 22,
    "start_time": "2023-01-24T15:19:01.931Z"
   },
   {
    "duration": 28,
    "start_time": "2023-01-24T15:19:01.956Z"
   },
   {
    "duration": 16,
    "start_time": "2023-01-24T15:19:01.986Z"
   },
   {
    "duration": 10,
    "start_time": "2023-01-24T15:19:02.004Z"
   },
   {
    "duration": 29,
    "start_time": "2023-01-24T15:19:02.016Z"
   },
   {
    "duration": 10,
    "start_time": "2023-01-24T15:19:02.047Z"
   },
   {
    "duration": 455,
    "start_time": "2023-01-24T15:19:02.058Z"
   },
   {
    "duration": 3,
    "start_time": "2023-01-24T15:19:02.515Z"
   },
   {
    "duration": 3615,
    "start_time": "2023-01-24T15:19:02.520Z"
   },
   {
    "duration": 23,
    "start_time": "2023-01-24T15:19:06.136Z"
   },
   {
    "duration": 18,
    "start_time": "2023-01-24T15:19:06.161Z"
   },
   {
    "duration": 14,
    "start_time": "2023-01-24T15:19:06.183Z"
   },
   {
    "duration": 26,
    "start_time": "2023-01-24T15:19:06.199Z"
   },
   {
    "duration": 23,
    "start_time": "2023-01-24T15:19:06.227Z"
   },
   {
    "duration": 31,
    "start_time": "2023-01-24T15:19:06.251Z"
   },
   {
    "duration": 749,
    "start_time": "2023-01-24T15:19:06.284Z"
   },
   {
    "duration": 6,
    "start_time": "2023-01-24T15:19:07.035Z"
   },
   {
    "duration": 2,
    "start_time": "2023-01-24T15:19:07.048Z"
   },
   {
    "duration": 11,
    "start_time": "2023-01-24T15:19:07.052Z"
   },
   {
    "duration": 4035,
    "start_time": "2023-01-24T15:19:07.066Z"
   },
   {
    "duration": 4,
    "start_time": "2023-01-24T15:19:11.103Z"
   },
   {
    "duration": 2229,
    "start_time": "2023-01-24T15:19:11.108Z"
   },
   {
    "duration": 49017,
    "start_time": "2023-01-24T15:19:13.339Z"
   },
   {
    "duration": 3,
    "start_time": "2023-01-24T15:20:02.358Z"
   },
   {
    "duration": 36,
    "start_time": "2023-01-24T15:20:02.363Z"
   },
   {
    "duration": 3,
    "start_time": "2023-01-24T15:20:59.372Z"
   },
   {
    "duration": 5,
    "start_time": "2023-01-24T15:21:03.696Z"
   },
   {
    "duration": 5,
    "start_time": "2023-01-24T15:21:46.731Z"
   },
   {
    "duration": 336,
    "start_time": "2023-01-24T15:23:14.874Z"
   },
   {
    "duration": 20,
    "start_time": "2023-01-24T15:23:46.602Z"
   },
   {
    "duration": 2,
    "start_time": "2023-01-24T15:24:16.392Z"
   },
   {
    "duration": 3,
    "start_time": "2023-01-24T15:24:17.035Z"
   },
   {
    "duration": 4,
    "start_time": "2023-01-24T15:24:17.363Z"
   },
   {
    "duration": 20,
    "start_time": "2023-01-24T15:24:17.824Z"
   },
   {
    "duration": 22,
    "start_time": "2023-01-24T15:24:37.807Z"
   },
   {
    "duration": 2133,
    "start_time": "2023-01-24T15:29:10.042Z"
   },
   {
    "duration": 2107,
    "start_time": "2023-01-24T15:29:12.177Z"
   },
   {
    "duration": 4,
    "start_time": "2023-01-24T15:29:14.286Z"
   },
   {
    "duration": 8,
    "start_time": "2023-01-24T15:29:14.292Z"
   },
   {
    "duration": 4687,
    "start_time": "2023-01-24T15:29:14.302Z"
   },
   {
    "duration": 2,
    "start_time": "2023-01-24T15:29:18.991Z"
   },
   {
    "duration": 737,
    "start_time": "2023-01-24T15:29:18.995Z"
   },
   {
    "duration": 18,
    "start_time": "2023-01-24T15:29:19.733Z"
   },
   {
    "duration": 15,
    "start_time": "2023-01-24T15:29:19.753Z"
   },
   {
    "duration": 16,
    "start_time": "2023-01-24T15:29:19.769Z"
   },
   {
    "duration": 15,
    "start_time": "2023-01-24T15:29:19.787Z"
   },
   {
    "duration": 10,
    "start_time": "2023-01-24T15:29:19.804Z"
   },
   {
    "duration": 7,
    "start_time": "2023-01-24T15:29:19.815Z"
   },
   {
    "duration": 5,
    "start_time": "2023-01-24T15:29:19.825Z"
   },
   {
    "duration": 467,
    "start_time": "2023-01-24T15:29:19.832Z"
   },
   {
    "duration": 3,
    "start_time": "2023-01-24T15:29:20.301Z"
   },
   {
    "duration": 3543,
    "start_time": "2023-01-24T15:29:20.305Z"
   },
   {
    "duration": 16,
    "start_time": "2023-01-24T15:29:23.850Z"
   },
   {
    "duration": 33,
    "start_time": "2023-01-24T15:29:23.867Z"
   },
   {
    "duration": 21,
    "start_time": "2023-01-24T15:29:23.902Z"
   },
   {
    "duration": 20,
    "start_time": "2023-01-24T15:29:23.924Z"
   },
   {
    "duration": 341,
    "start_time": "2023-01-24T15:29:23.946Z"
   },
   {
    "duration": 0,
    "start_time": "2023-01-24T15:29:24.289Z"
   },
   {
    "duration": 0,
    "start_time": "2023-01-24T15:29:24.290Z"
   },
   {
    "duration": 0,
    "start_time": "2023-01-24T15:29:24.291Z"
   },
   {
    "duration": 0,
    "start_time": "2023-01-24T15:29:24.292Z"
   },
   {
    "duration": 0,
    "start_time": "2023-01-24T15:29:24.293Z"
   },
   {
    "duration": 0,
    "start_time": "2023-01-24T15:29:24.294Z"
   },
   {
    "duration": 0,
    "start_time": "2023-01-24T15:29:24.296Z"
   },
   {
    "duration": 0,
    "start_time": "2023-01-24T15:29:24.296Z"
   },
   {
    "duration": 0,
    "start_time": "2023-01-24T15:29:24.297Z"
   },
   {
    "duration": 0,
    "start_time": "2023-01-24T15:29:24.298Z"
   },
   {
    "duration": 0,
    "start_time": "2023-01-24T15:29:24.299Z"
   },
   {
    "duration": 0,
    "start_time": "2023-01-24T15:29:24.300Z"
   },
   {
    "duration": 0,
    "start_time": "2023-01-24T15:29:24.302Z"
   },
   {
    "duration": 21,
    "start_time": "2023-01-24T15:30:02.669Z"
   },
   {
    "duration": 20,
    "start_time": "2023-01-24T15:30:12.998Z"
   },
   {
    "duration": 743,
    "start_time": "2023-01-24T15:30:16.936Z"
   },
   {
    "duration": 7,
    "start_time": "2023-01-24T15:30:17.724Z"
   },
   {
    "duration": 3,
    "start_time": "2023-01-24T15:30:18.911Z"
   },
   {
    "duration": 11,
    "start_time": "2023-01-24T15:30:19.138Z"
   },
   {
    "duration": 4034,
    "start_time": "2023-01-24T15:30:19.499Z"
   },
   {
    "duration": 5,
    "start_time": "2023-01-24T15:30:23.535Z"
   },
   {
    "duration": 2327,
    "start_time": "2023-01-24T15:30:23.541Z"
   },
   {
    "duration": 60700,
    "start_time": "2023-01-24T15:30:25.870Z"
   },
   {
    "duration": 3,
    "start_time": "2023-01-24T15:31:26.571Z"
   },
   {
    "duration": 6,
    "start_time": "2023-01-24T15:31:26.575Z"
   },
   {
    "duration": 6,
    "start_time": "2023-01-24T15:31:26.582Z"
   },
   {
    "duration": 72,
    "start_time": "2023-01-24T15:31:26.589Z"
   },
   {
    "duration": 3,
    "start_time": "2023-01-24T15:34:03.890Z"
   },
   {
    "duration": 11,
    "start_time": "2023-01-24T15:34:03.895Z"
   },
   {
    "duration": 8,
    "start_time": "2023-01-24T15:34:03.908Z"
   },
   {
    "duration": 2100,
    "start_time": "2023-01-24T15:35:41.930Z"
   },
   {
    "duration": 2221,
    "start_time": "2023-01-24T15:35:44.033Z"
   },
   {
    "duration": 2,
    "start_time": "2023-01-24T15:35:46.256Z"
   },
   {
    "duration": 7,
    "start_time": "2023-01-24T15:35:46.261Z"
   },
   {
    "duration": 4890,
    "start_time": "2023-01-24T15:35:46.270Z"
   },
   {
    "duration": 3,
    "start_time": "2023-01-24T15:35:51.161Z"
   },
   {
    "duration": 771,
    "start_time": "2023-01-24T15:35:51.166Z"
   },
   {
    "duration": 21,
    "start_time": "2023-01-24T15:35:51.939Z"
   },
   {
    "duration": 27,
    "start_time": "2023-01-24T15:35:51.961Z"
   },
   {
    "duration": 14,
    "start_time": "2023-01-24T15:35:51.990Z"
   },
   {
    "duration": 18,
    "start_time": "2023-01-24T15:35:52.005Z"
   },
   {
    "duration": 13,
    "start_time": "2023-01-24T15:35:52.025Z"
   },
   {
    "duration": 23,
    "start_time": "2023-01-24T15:35:52.039Z"
   },
   {
    "duration": 8,
    "start_time": "2023-01-24T15:35:52.064Z"
   },
   {
    "duration": 444,
    "start_time": "2023-01-24T15:35:52.074Z"
   },
   {
    "duration": 2,
    "start_time": "2023-01-24T15:35:52.520Z"
   },
   {
    "duration": 3492,
    "start_time": "2023-01-24T15:35:52.524Z"
   },
   {
    "duration": 17,
    "start_time": "2023-01-24T15:35:56.017Z"
   },
   {
    "duration": 5,
    "start_time": "2023-01-24T15:35:56.035Z"
   },
   {
    "duration": 11,
    "start_time": "2023-01-24T15:35:56.048Z"
   },
   {
    "duration": 9,
    "start_time": "2023-01-24T15:35:56.061Z"
   },
   {
    "duration": 28,
    "start_time": "2023-01-24T15:35:56.072Z"
   },
   {
    "duration": 21,
    "start_time": "2023-01-24T15:35:56.102Z"
   },
   {
    "duration": 756,
    "start_time": "2023-01-24T15:35:56.125Z"
   },
   {
    "duration": 7,
    "start_time": "2023-01-24T15:35:56.883Z"
   },
   {
    "duration": 6,
    "start_time": "2023-01-24T15:35:56.892Z"
   },
   {
    "duration": 21,
    "start_time": "2023-01-24T15:35:56.900Z"
   },
   {
    "duration": 4223,
    "start_time": "2023-01-24T15:35:56.925Z"
   },
   {
    "duration": 5,
    "start_time": "2023-01-24T15:36:01.150Z"
   },
   {
    "duration": 2280,
    "start_time": "2023-01-24T15:36:01.156Z"
   },
   {
    "duration": 57026,
    "start_time": "2023-01-24T15:36:03.438Z"
   },
   {
    "duration": 3,
    "start_time": "2023-01-24T15:37:00.465Z"
   },
   {
    "duration": 29,
    "start_time": "2023-01-24T15:37:00.469Z"
   },
   {
    "duration": 37,
    "start_time": "2023-01-24T15:37:00.499Z"
   },
   {
    "duration": 381,
    "start_time": "2023-01-24T15:37:00.538Z"
   },
   {
    "duration": 7,
    "start_time": "2023-01-24T15:38:22.018Z"
   },
   {
    "duration": 4,
    "start_time": "2023-01-24T15:38:46.397Z"
   },
   {
    "duration": 3,
    "start_time": "2023-01-24T15:38:55.168Z"
   },
   {
    "duration": 4,
    "start_time": "2023-01-24T15:39:23.522Z"
   },
   {
    "duration": 4,
    "start_time": "2023-01-24T15:39:27.180Z"
   },
   {
    "duration": 3,
    "start_time": "2023-01-24T15:39:31.598Z"
   },
   {
    "duration": 3,
    "start_time": "2023-01-24T15:39:37.606Z"
   },
   {
    "duration": 22,
    "start_time": "2023-01-24T15:40:01.468Z"
   },
   {
    "duration": 4,
    "start_time": "2023-01-24T15:40:22.182Z"
   },
   {
    "duration": 4,
    "start_time": "2023-01-24T15:41:20.416Z"
   },
   {
    "duration": 17,
    "start_time": "2023-01-24T15:41:33.786Z"
   },
   {
    "duration": 19,
    "start_time": "2023-01-24T15:41:38.673Z"
   },
   {
    "duration": 4,
    "start_time": "2023-01-24T15:41:59.313Z"
   },
   {
    "duration": 4,
    "start_time": "2023-01-24T15:42:22.936Z"
   },
   {
    "duration": 8,
    "start_time": "2023-01-24T15:52:07.451Z"
   },
   {
    "duration": 2,
    "start_time": "2023-01-24T15:52:31.803Z"
   },
   {
    "duration": 90,
    "start_time": "2023-01-24T15:52:38.253Z"
   },
   {
    "duration": 5,
    "start_time": "2023-01-24T15:52:42.779Z"
   },
   {
    "duration": 4,
    "start_time": "2023-01-24T15:54:50.364Z"
   },
   {
    "duration": 10,
    "start_time": "2023-01-24T15:54:55.991Z"
   },
   {
    "duration": 8,
    "start_time": "2023-01-24T15:55:12.959Z"
   },
   {
    "duration": 7,
    "start_time": "2023-01-24T15:55:22.105Z"
   },
   {
    "duration": 9,
    "start_time": "2023-01-24T15:55:32.907Z"
   },
   {
    "duration": 7,
    "start_time": "2023-01-24T15:55:41.262Z"
   },
   {
    "duration": 739,
    "start_time": "2023-01-24T15:56:34.567Z"
   },
   {
    "duration": 342,
    "start_time": "2023-01-24T15:56:35.309Z"
   },
   {
    "duration": 7,
    "start_time": "2023-01-24T15:56:39.266Z"
   },
   {
    "duration": 9,
    "start_time": "2023-01-24T15:56:54.039Z"
   },
   {
    "duration": 10,
    "start_time": "2023-01-24T15:56:59.684Z"
   },
   {
    "duration": 20,
    "start_time": "2023-01-24T15:58:58.210Z"
   },
   {
    "duration": 7,
    "start_time": "2023-01-24T15:59:18.089Z"
   },
   {
    "duration": 7,
    "start_time": "2023-01-24T15:59:22.838Z"
   },
   {
    "duration": 7,
    "start_time": "2023-01-24T15:59:28.361Z"
   },
   {
    "duration": 22,
    "start_time": "2023-01-24T16:00:35.151Z"
   },
   {
    "duration": 7,
    "start_time": "2023-01-24T16:00:35.674Z"
   },
   {
    "duration": 7,
    "start_time": "2023-01-24T16:01:10.212Z"
   },
   {
    "duration": 10,
    "start_time": "2023-01-24T16:01:26.195Z"
   },
   {
    "duration": 7,
    "start_time": "2023-01-24T16:01:27.759Z"
   },
   {
    "duration": 53,
    "start_time": "2023-01-24T17:52:48.326Z"
   },
   {
    "duration": 6,
    "start_time": "2023-01-24T17:52:51.631Z"
   },
   {
    "duration": 2719,
    "start_time": "2023-01-24T17:53:51.378Z"
   },
   {
    "duration": 7532,
    "start_time": "2023-01-24T17:53:54.099Z"
   },
   {
    "duration": 4,
    "start_time": "2023-01-24T17:54:01.633Z"
   },
   {
    "duration": 40,
    "start_time": "2023-01-24T17:54:01.639Z"
   },
   {
    "duration": 5732,
    "start_time": "2023-01-24T17:54:01.681Z"
   },
   {
    "duration": 2,
    "start_time": "2023-01-24T17:54:07.415Z"
   },
   {
    "duration": 2328,
    "start_time": "2023-01-24T17:54:07.420Z"
   },
   {
    "duration": 19,
    "start_time": "2023-01-24T17:54:09.749Z"
   },
   {
    "duration": 14,
    "start_time": "2023-01-24T17:54:09.770Z"
   },
   {
    "duration": 12,
    "start_time": "2023-01-24T17:54:09.787Z"
   },
   {
    "duration": 20,
    "start_time": "2023-01-24T17:54:09.801Z"
   },
   {
    "duration": 6,
    "start_time": "2023-01-24T17:54:09.837Z"
   },
   {
    "duration": 10,
    "start_time": "2023-01-24T17:54:09.845Z"
   },
   {
    "duration": 35,
    "start_time": "2023-01-24T17:54:09.857Z"
   },
   {
    "duration": 681,
    "start_time": "2023-01-24T17:54:09.893Z"
   },
   {
    "duration": 3,
    "start_time": "2023-01-24T17:54:10.576Z"
   },
   {
    "duration": 3966,
    "start_time": "2023-01-24T17:54:10.580Z"
   },
   {
    "duration": 20,
    "start_time": "2023-01-24T17:54:14.549Z"
   },
   {
    "duration": 19,
    "start_time": "2023-01-24T17:54:14.571Z"
   },
   {
    "duration": 27,
    "start_time": "2023-01-24T17:54:14.592Z"
   },
   {
    "duration": 27,
    "start_time": "2023-01-24T17:54:14.620Z"
   },
   {
    "duration": 56,
    "start_time": "2023-01-24T17:54:14.649Z"
   },
   {
    "duration": 384,
    "start_time": "2023-01-24T17:54:14.707Z"
   },
   {
    "duration": 0,
    "start_time": "2023-01-24T17:54:15.093Z"
   },
   {
    "duration": 0,
    "start_time": "2023-01-24T17:54:15.094Z"
   },
   {
    "duration": 0,
    "start_time": "2023-01-24T17:54:15.095Z"
   },
   {
    "duration": 0,
    "start_time": "2023-01-24T17:54:15.097Z"
   },
   {
    "duration": 0,
    "start_time": "2023-01-24T17:54:15.099Z"
   },
   {
    "duration": 0,
    "start_time": "2023-01-24T17:54:15.100Z"
   },
   {
    "duration": 0,
    "start_time": "2023-01-24T17:54:15.101Z"
   },
   {
    "duration": 0,
    "start_time": "2023-01-24T17:54:15.103Z"
   },
   {
    "duration": 0,
    "start_time": "2023-01-24T17:54:15.104Z"
   },
   {
    "duration": 0,
    "start_time": "2023-01-24T17:54:15.105Z"
   },
   {
    "duration": 0,
    "start_time": "2023-01-24T17:54:15.106Z"
   },
   {
    "duration": 0,
    "start_time": "2023-01-24T17:54:15.107Z"
   },
   {
    "duration": 0,
    "start_time": "2023-01-24T17:54:15.108Z"
   },
   {
    "duration": 0,
    "start_time": "2023-01-24T17:54:15.109Z"
   },
   {
    "duration": 0,
    "start_time": "2023-01-24T17:54:15.138Z"
   },
   {
    "duration": 0,
    "start_time": "2023-01-24T17:54:15.139Z"
   },
   {
    "duration": 0,
    "start_time": "2023-01-24T17:54:15.141Z"
   },
   {
    "duration": 0,
    "start_time": "2023-01-24T17:54:15.142Z"
   },
   {
    "duration": 24,
    "start_time": "2023-01-24T17:54:30.768Z"
   },
   {
    "duration": 902,
    "start_time": "2023-01-24T17:54:32.375Z"
   },
   {
    "duration": 3,
    "start_time": "2023-01-24T17:54:33.280Z"
   },
   {
    "duration": 18,
    "start_time": "2023-01-24T17:54:33.284Z"
   },
   {
    "duration": 9,
    "start_time": "2023-01-24T17:54:33.304Z"
   },
   {
    "duration": 24,
    "start_time": "2023-01-24T17:54:33.314Z"
   },
   {
    "duration": 4329,
    "start_time": "2023-01-24T17:54:33.567Z"
   },
   {
    "duration": 5,
    "start_time": "2023-01-24T17:54:37.898Z"
   },
   {
    "duration": 17215,
    "start_time": "2023-01-24T17:54:37.904Z"
   },
   {
    "duration": 32126,
    "start_time": "2023-01-24T17:54:55.121Z"
   },
   {
    "duration": 3,
    "start_time": "2023-01-24T17:55:27.249Z"
   },
   {
    "duration": 22,
    "start_time": "2023-01-24T17:55:27.254Z"
   },
   {
    "duration": 14,
    "start_time": "2023-01-24T17:55:27.277Z"
   },
   {
    "duration": 18,
    "start_time": "2023-01-24T17:55:27.293Z"
   },
   {
    "duration": 4,
    "start_time": "2023-01-24T17:55:55.690Z"
   },
   {
    "duration": 3,
    "start_time": "2023-01-24T17:55:56.383Z"
   },
   {
    "duration": 4,
    "start_time": "2023-01-24T17:55:57.069Z"
   },
   {
    "duration": 3,
    "start_time": "2023-01-24T17:55:57.655Z"
   },
   {
    "duration": 41,
    "start_time": "2023-01-24T17:56:01.531Z"
   },
   {
    "duration": 3,
    "start_time": "2023-01-24T17:56:41.998Z"
   },
   {
    "duration": 3,
    "start_time": "2023-01-24T17:56:42.841Z"
   },
   {
    "duration": 33,
    "start_time": "2023-01-24T17:56:43.590Z"
   },
   {
    "duration": 4,
    "start_time": "2023-01-24T17:57:16.136Z"
   },
   {
    "duration": 4,
    "start_time": "2023-01-24T17:57:16.742Z"
   },
   {
    "duration": 3,
    "start_time": "2023-01-24T17:57:17.098Z"
   },
   {
    "duration": 37,
    "start_time": "2023-01-24T17:57:18.192Z"
   },
   {
    "duration": 3,
    "start_time": "2023-01-24T18:01:23.413Z"
   },
   {
    "duration": 45,
    "start_time": "2023-01-24T18:01:25.152Z"
   },
   {
    "duration": 3,
    "start_time": "2023-01-24T18:02:32.869Z"
   },
   {
    "duration": 46,
    "start_time": "2023-01-24T18:02:38.767Z"
   },
   {
    "duration": 3,
    "start_time": "2023-01-24T18:02:41.444Z"
   },
   {
    "duration": 42,
    "start_time": "2023-01-24T18:02:42.170Z"
   },
   {
    "duration": 40,
    "start_time": "2023-01-24T18:02:59.184Z"
   },
   {
    "duration": 37,
    "start_time": "2023-01-24T18:03:17.947Z"
   },
   {
    "duration": 3,
    "start_time": "2023-01-24T18:04:44.392Z"
   },
   {
    "duration": 454,
    "start_time": "2023-01-24T18:05:05.226Z"
   },
   {
    "duration": 4,
    "start_time": "2023-01-24T18:05:23.919Z"
   },
   {
    "duration": 3,
    "start_time": "2023-01-24T18:05:24.329Z"
   },
   {
    "duration": 3,
    "start_time": "2023-01-24T18:05:25.196Z"
   },
   {
    "duration": 489,
    "start_time": "2023-01-24T18:05:25.617Z"
   },
   {
    "duration": 4,
    "start_time": "2023-01-24T18:05:41.291Z"
   },
   {
    "duration": 133,
    "start_time": "2023-01-24T18:06:24.981Z"
   },
   {
    "duration": 109,
    "start_time": "2023-01-24T18:09:17.421Z"
   },
   {
    "duration": 3,
    "start_time": "2023-01-24T18:10:26.295Z"
   },
   {
    "duration": 445,
    "start_time": "2023-01-24T18:10:26.970Z"
   },
   {
    "duration": 3,
    "start_time": "2023-01-24T18:11:06.959Z"
   },
   {
    "duration": 96,
    "start_time": "2023-01-24T18:12:52.010Z"
   },
   {
    "duration": 3,
    "start_time": "2023-01-24T18:13:45.790Z"
   },
   {
    "duration": 2,
    "start_time": "2023-01-24T18:13:46.192Z"
   },
   {
    "duration": 4,
    "start_time": "2023-01-24T18:13:46.484Z"
   },
   {
    "duration": 3,
    "start_time": "2023-01-24T18:13:46.938Z"
   },
   {
    "duration": 106,
    "start_time": "2023-01-24T18:13:47.328Z"
   },
   {
    "duration": 2,
    "start_time": "2023-01-24T18:13:47.762Z"
   },
   {
    "duration": 423,
    "start_time": "2023-01-24T18:13:48.297Z"
   },
   {
    "duration": 3,
    "start_time": "2023-01-24T18:13:49.098Z"
   },
   {
    "duration": 446,
    "start_time": "2023-01-24T18:13:49.672Z"
   },
   {
    "duration": 377,
    "start_time": "2023-01-24T18:13:53.604Z"
   },
   {
    "duration": 389,
    "start_time": "2023-01-24T18:14:01.736Z"
   },
   {
    "duration": 93,
    "start_time": "2023-01-24T18:16:53.928Z"
   },
   {
    "duration": 2,
    "start_time": "2023-01-24T18:16:54.594Z"
   },
   {
    "duration": 398,
    "start_time": "2023-01-24T18:16:55.644Z"
   },
   {
    "duration": 4,
    "start_time": "2023-01-24T18:16:57.656Z"
   },
   {
    "duration": 18,
    "start_time": "2023-01-24T18:16:58.024Z"
   },
   {
    "duration": 26,
    "start_time": "2023-01-24T18:17:13.428Z"
   },
   {
    "duration": 1175,
    "start_time": "2023-01-24T18:17:13.974Z"
   },
   {
    "duration": 10,
    "start_time": "2023-01-24T18:17:37.278Z"
   },
   {
    "duration": 3,
    "start_time": "2023-01-24T18:18:29.664Z"
   },
   {
    "duration": 407,
    "start_time": "2023-01-24T18:18:30.004Z"
   },
   {
    "duration": 3,
    "start_time": "2023-01-24T18:18:43.926Z"
   },
   {
    "duration": 3,
    "start_time": "2023-01-24T18:20:37.402Z"
   },
   {
    "duration": 107,
    "start_time": "2023-01-24T18:20:37.726Z"
   },
   {
    "duration": 3,
    "start_time": "2023-01-24T18:20:38.430Z"
   },
   {
    "duration": 432,
    "start_time": "2023-01-24T18:20:38.803Z"
   },
   {
    "duration": 2,
    "start_time": "2023-01-24T18:20:39.238Z"
   },
   {
    "duration": 1221,
    "start_time": "2023-01-24T18:20:39.423Z"
   },
   {
    "duration": 3,
    "start_time": "2023-01-24T18:20:40.646Z"
   },
   {
    "duration": 28,
    "start_time": "2023-01-24T18:20:40.832Z"
   },
   {
    "duration": 5,
    "start_time": "2023-01-24T18:20:57.005Z"
   },
   {
    "duration": 5,
    "start_time": "2023-01-24T18:21:06.695Z"
   },
   {
    "duration": 2,
    "start_time": "2023-01-24T18:21:28.721Z"
   },
   {
    "duration": 100,
    "start_time": "2023-01-24T18:21:29.148Z"
   },
   {
    "duration": 3,
    "start_time": "2023-01-24T18:21:57.293Z"
   },
   {
    "duration": 103,
    "start_time": "2023-01-24T18:21:57.703Z"
   },
   {
    "duration": 3,
    "start_time": "2023-01-24T18:21:58.881Z"
   },
   {
    "duration": 414,
    "start_time": "2023-01-24T18:21:59.391Z"
   },
   {
    "duration": 2,
    "start_time": "2023-01-24T18:21:59.865Z"
   },
   {
    "duration": 1337,
    "start_time": "2023-01-24T18:22:00.318Z"
   },
   {
    "duration": 4,
    "start_time": "2023-01-24T18:22:03.854Z"
   },
   {
    "duration": 3,
    "start_time": "2023-01-24T18:22:04.517Z"
   },
   {
    "duration": 8,
    "start_time": "2023-01-24T18:22:07.909Z"
   },
   {
    "duration": 6,
    "start_time": "2023-01-24T18:22:32.534Z"
   },
   {
    "duration": 4,
    "start_time": "2023-01-24T18:22:33.325Z"
   },
   {
    "duration": 8,
    "start_time": "2023-01-24T18:22:34.022Z"
   },
   {
    "duration": 3,
    "start_time": "2023-01-24T18:22:38.274Z"
   },
   {
    "duration": 100,
    "start_time": "2023-01-24T18:22:38.471Z"
   },
   {
    "duration": 3,
    "start_time": "2023-01-24T18:22:38.791Z"
   },
   {
    "duration": 411,
    "start_time": "2023-01-24T18:22:38.924Z"
   },
   {
    "duration": 2,
    "start_time": "2023-01-24T18:22:39.338Z"
   },
   {
    "duration": 1314,
    "start_time": "2023-01-24T18:22:39.342Z"
   },
   {
    "duration": 5,
    "start_time": "2023-01-24T18:22:40.658Z"
   },
   {
    "duration": 74,
    "start_time": "2023-01-24T18:22:40.664Z"
   },
   {
    "duration": 8,
    "start_time": "2023-01-24T18:22:40.740Z"
   },
   {
    "duration": 2326,
    "start_time": "2023-01-24T21:06:10.471Z"
   },
   {
    "duration": 6944,
    "start_time": "2023-01-24T21:06:12.798Z"
   },
   {
    "duration": 3,
    "start_time": "2023-01-24T21:06:19.744Z"
   },
   {
    "duration": 7,
    "start_time": "2023-01-24T21:06:19.749Z"
   },
   {
    "duration": 7007,
    "start_time": "2023-01-24T21:06:19.757Z"
   },
   {
    "duration": 2,
    "start_time": "2023-01-24T21:06:26.766Z"
   },
   {
    "duration": 2187,
    "start_time": "2023-01-24T21:06:26.769Z"
   },
   {
    "duration": 18,
    "start_time": "2023-01-24T21:06:28.958Z"
   },
   {
    "duration": 17,
    "start_time": "2023-01-24T21:06:28.977Z"
   },
   {
    "duration": 30,
    "start_time": "2023-01-24T21:06:28.997Z"
   },
   {
    "duration": 22,
    "start_time": "2023-01-24T21:06:29.028Z"
   },
   {
    "duration": 9,
    "start_time": "2023-01-24T21:06:29.051Z"
   },
   {
    "duration": 9,
    "start_time": "2023-01-24T21:06:29.061Z"
   },
   {
    "duration": 9,
    "start_time": "2023-01-24T21:06:29.071Z"
   },
   {
    "duration": 616,
    "start_time": "2023-01-24T21:06:29.081Z"
   },
   {
    "duration": 3,
    "start_time": "2023-01-24T21:06:29.698Z"
   },
   {
    "duration": 3769,
    "start_time": "2023-01-24T21:06:29.703Z"
   },
   {
    "duration": 26,
    "start_time": "2023-01-24T21:06:33.474Z"
   },
   {
    "duration": 3,
    "start_time": "2023-01-24T21:06:33.502Z"
   },
   {
    "duration": 13,
    "start_time": "2023-01-24T21:06:33.507Z"
   },
   {
    "duration": 13,
    "start_time": "2023-01-24T21:06:33.521Z"
   },
   {
    "duration": 28,
    "start_time": "2023-01-24T21:06:33.536Z"
   },
   {
    "duration": 33,
    "start_time": "2023-01-24T21:06:33.566Z"
   },
   {
    "duration": 738,
    "start_time": "2023-01-24T21:06:33.601Z"
   },
   {
    "duration": 2,
    "start_time": "2023-01-24T21:06:34.341Z"
   },
   {
    "duration": 15,
    "start_time": "2023-01-24T21:06:34.345Z"
   },
   {
    "duration": 7,
    "start_time": "2023-01-24T21:06:34.362Z"
   },
   {
    "duration": 21,
    "start_time": "2023-01-24T21:06:34.372Z"
   },
   {
    "duration": 4170,
    "start_time": "2023-01-24T21:06:34.395Z"
   },
   {
    "duration": 5,
    "start_time": "2023-01-24T21:06:38.567Z"
   },
   {
    "duration": 17177,
    "start_time": "2023-01-24T21:06:38.574Z"
   },
   {
    "duration": 25381,
    "start_time": "2023-01-24T21:06:55.753Z"
   },
   {
    "duration": 3,
    "start_time": "2023-01-24T21:07:21.136Z"
   },
   {
    "duration": 55,
    "start_time": "2023-01-24T21:07:21.140Z"
   },
   {
    "duration": 16,
    "start_time": "2023-01-24T21:07:21.197Z"
   },
   {
    "duration": 26,
    "start_time": "2023-01-24T21:07:21.215Z"
   },
   {
    "duration": 4,
    "start_time": "2023-01-24T21:07:21.243Z"
   },
   {
    "duration": 10,
    "start_time": "2023-01-24T21:07:21.249Z"
   },
   {
    "duration": 10,
    "start_time": "2023-01-24T21:07:21.261Z"
   },
   {
    "duration": 126,
    "start_time": "2023-01-24T21:07:21.272Z"
   },
   {
    "duration": 2,
    "start_time": "2023-01-24T21:07:21.400Z"
   },
   {
    "duration": 435,
    "start_time": "2023-01-24T21:07:21.404Z"
   },
   {
    "duration": 3,
    "start_time": "2023-01-24T21:07:21.840Z"
   },
   {
    "duration": 1493,
    "start_time": "2023-01-24T21:07:21.845Z"
   },
   {
    "duration": 0,
    "start_time": "2023-01-24T21:07:23.340Z"
   },
   {
    "duration": 0,
    "start_time": "2023-01-24T21:07:23.341Z"
   },
   {
    "duration": 0,
    "start_time": "2023-01-24T21:07:23.342Z"
   },
   {
    "duration": 1049,
    "start_time": "2023-01-24T21:07:54.268Z"
   },
   {
    "duration": 993,
    "start_time": "2023-01-24T21:15:50.499Z"
   },
   {
    "duration": 211,
    "start_time": "2023-01-24T21:16:42.937Z"
   },
   {
    "duration": 1186,
    "start_time": "2023-01-24T21:17:34.220Z"
   },
   {
    "duration": 3,
    "start_time": "2023-01-24T21:18:32.150Z"
   },
   {
    "duration": 26,
    "start_time": "2023-01-24T21:18:32.574Z"
   },
   {
    "duration": 105,
    "start_time": "2023-01-24T21:18:42.422Z"
   },
   {
    "duration": 432,
    "start_time": "2023-01-24T21:18:42.796Z"
   },
   {
    "duration": 1074,
    "start_time": "2023-01-24T21:18:43.230Z"
   },
   {
    "duration": 1093,
    "start_time": "2023-01-24T21:18:44.306Z"
   },
   {
    "duration": 277,
    "start_time": "2023-01-24T21:18:45.491Z"
   },
   {
    "duration": 1222,
    "start_time": "2023-01-24T21:18:45.770Z"
   },
   {
    "duration": 3,
    "start_time": "2023-01-24T21:18:46.994Z"
   },
   {
    "duration": 26,
    "start_time": "2023-01-24T21:18:46.999Z"
   },
   {
    "duration": 0,
    "start_time": "2023-01-24T21:18:47.027Z"
   },
   {
    "duration": 5,
    "start_time": "2023-01-24T21:19:25.435Z"
   },
   {
    "duration": 4,
    "start_time": "2023-01-24T21:19:32.142Z"
   },
   {
    "duration": 139,
    "start_time": "2023-01-24T21:20:00.824Z"
   },
   {
    "duration": 483,
    "start_time": "2023-01-24T21:20:01.100Z"
   },
   {
    "duration": 1309,
    "start_time": "2023-01-24T21:20:01.593Z"
   },
   {
    "duration": 1692,
    "start_time": "2023-01-24T21:20:02.904Z"
   },
   {
    "duration": 373,
    "start_time": "2023-01-24T21:20:04.598Z"
   },
   {
    "duration": 1322,
    "start_time": "2023-01-24T21:20:04.974Z"
   },
   {
    "duration": 4,
    "start_time": "2023-01-24T21:20:06.298Z"
   },
   {
    "duration": 3,
    "start_time": "2023-01-24T21:20:10.816Z"
   },
   {
    "duration": 5,
    "start_time": "2023-01-24T21:20:12.053Z"
   },
   {
    "duration": 8,
    "start_time": "2023-01-24T21:20:13.454Z"
   },
   {
    "duration": 14,
    "start_time": "2023-01-24T21:31:45.928Z"
   },
   {
    "duration": 4,
    "start_time": "2023-01-24T21:31:52.976Z"
   },
   {
    "duration": 27,
    "start_time": "2023-01-24T21:32:00.522Z"
   },
   {
    "duration": 20,
    "start_time": "2023-01-24T21:34:21.391Z"
   },
   {
    "duration": 20,
    "start_time": "2023-01-24T21:34:30.966Z"
   },
   {
    "duration": 8,
    "start_time": "2023-01-24T21:34:46.421Z"
   },
   {
    "duration": 7,
    "start_time": "2023-01-24T21:36:03.222Z"
   },
   {
    "duration": 7,
    "start_time": "2023-01-24T21:36:12.379Z"
   },
   {
    "duration": 6,
    "start_time": "2023-01-24T21:40:34.691Z"
   },
   {
    "duration": 7,
    "start_time": "2023-01-24T21:44:50.107Z"
   },
   {
    "duration": 5,
    "start_time": "2023-01-24T21:51:47.999Z"
   },
   {
    "duration": 2187,
    "start_time": "2023-01-24T22:04:11.572Z"
   },
   {
    "duration": 2021,
    "start_time": "2023-01-24T22:04:13.761Z"
   },
   {
    "duration": 3,
    "start_time": "2023-01-24T22:04:15.784Z"
   },
   {
    "duration": 12,
    "start_time": "2023-01-24T22:04:15.788Z"
   },
   {
    "duration": 7244,
    "start_time": "2023-01-24T22:04:15.801Z"
   },
   {
    "duration": 3,
    "start_time": "2023-01-24T22:04:23.047Z"
   },
   {
    "duration": 745,
    "start_time": "2023-01-24T22:04:23.052Z"
   },
   {
    "duration": 18,
    "start_time": "2023-01-24T22:04:23.798Z"
   },
   {
    "duration": 15,
    "start_time": "2023-01-24T22:04:23.818Z"
   },
   {
    "duration": 10,
    "start_time": "2023-01-24T22:04:23.835Z"
   },
   {
    "duration": 11,
    "start_time": "2023-01-24T22:04:23.847Z"
   },
   {
    "duration": 34,
    "start_time": "2023-01-24T22:04:23.860Z"
   },
   {
    "duration": 6,
    "start_time": "2023-01-24T22:04:23.896Z"
   },
   {
    "duration": 6,
    "start_time": "2023-01-24T22:04:23.903Z"
   },
   {
    "duration": 584,
    "start_time": "2023-01-24T22:04:23.911Z"
   },
   {
    "duration": 3,
    "start_time": "2023-01-24T22:04:24.497Z"
   },
   {
    "duration": 3855,
    "start_time": "2023-01-24T22:04:24.502Z"
   },
   {
    "duration": 19,
    "start_time": "2023-01-24T22:04:28.358Z"
   },
   {
    "duration": 21,
    "start_time": "2023-01-24T22:04:28.378Z"
   },
   {
    "duration": 8,
    "start_time": "2023-01-24T22:04:28.401Z"
   },
   {
    "duration": 8,
    "start_time": "2023-01-24T22:04:28.412Z"
   },
   {
    "duration": 22,
    "start_time": "2023-01-24T22:04:28.422Z"
   },
   {
    "duration": 20,
    "start_time": "2023-01-24T22:04:28.446Z"
   },
   {
    "duration": 720,
    "start_time": "2023-01-24T22:04:28.468Z"
   },
   {
    "duration": 3,
    "start_time": "2023-01-24T22:04:29.190Z"
   },
   {
    "duration": 15,
    "start_time": "2023-01-24T22:04:29.195Z"
   },
   {
    "duration": 13,
    "start_time": "2023-01-24T22:04:29.212Z"
   },
   {
    "duration": 4142,
    "start_time": "2023-01-24T22:04:29.227Z"
   },
   {
    "duration": 5,
    "start_time": "2023-01-24T22:04:33.370Z"
   },
   {
    "duration": 5058,
    "start_time": "2023-01-24T22:04:33.377Z"
   },
   {
    "duration": 30473,
    "start_time": "2023-01-24T22:04:38.437Z"
   },
   {
    "duration": 5,
    "start_time": "2023-01-24T22:05:08.911Z"
   },
   {
    "duration": 34,
    "start_time": "2023-01-24T22:05:08.917Z"
   },
   {
    "duration": 6,
    "start_time": "2023-01-24T22:05:08.953Z"
   },
   {
    "duration": 31,
    "start_time": "2023-01-24T22:05:08.961Z"
   },
   {
    "duration": 135,
    "start_time": "2023-01-24T22:05:08.993Z"
   },
   {
    "duration": 352,
    "start_time": "2023-01-24T22:05:09.129Z"
   },
   {
    "duration": 1212,
    "start_time": "2023-01-24T22:05:09.484Z"
   },
   {
    "duration": 1394,
    "start_time": "2023-01-24T22:05:10.698Z"
   },
   {
    "duration": 272,
    "start_time": "2023-01-24T22:05:12.094Z"
   },
   {
    "duration": 1247,
    "start_time": "2023-01-24T22:05:12.368Z"
   },
   {
    "duration": 3,
    "start_time": "2023-01-24T22:05:13.617Z"
   },
   {
    "duration": 72,
    "start_time": "2023-01-24T22:05:13.622Z"
   },
   {
    "duration": 17,
    "start_time": "2023-01-24T22:05:13.696Z"
   },
   {
    "duration": 8,
    "start_time": "2023-01-24T22:05:13.715Z"
   },
   {
    "duration": 6,
    "start_time": "2023-01-24T22:05:13.725Z"
   }
  ],
  "kernelspec": {
   "display_name": "Python 3 (ipykernel)",
   "language": "python",
   "name": "python3"
  },
  "language_info": {
   "codemirror_mode": {
    "name": "ipython",
    "version": 3
   },
   "file_extension": ".py",
   "mimetype": "text/x-python",
   "name": "python",
   "nbconvert_exporter": "python",
   "pygments_lexer": "ipython3",
   "version": "3.9.13"
  },
  "toc": {
   "base_numbering": 1,
   "nav_menu": {},
   "number_sections": true,
   "sideBar": true,
   "skip_h1_title": true,
   "title_cell": "Содержание",
   "title_sidebar": "Contents",
   "toc_cell": true,
   "toc_position": {
    "height": "calc(100% - 180px)",
    "left": "10px",
    "top": "150px",
    "width": "302.391px"
   },
   "toc_section_display": true,
   "toc_window_display": false
  }
 },
 "nbformat": 4,
 "nbformat_minor": 2
}
